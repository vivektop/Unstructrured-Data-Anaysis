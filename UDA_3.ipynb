{
 "cells": [
  {
   "cell_type": "code",
   "execution_count": 1,
   "metadata": {},
   "outputs": [
    {
     "name": "stdout",
     "output_type": "stream",
     "text": [
      "Collecting pyldavis\n",
      "  Downloading https://files.pythonhosted.org/packages/a5/3a/af82e070a8a96e13217c8f362f9a73e82d61ac8fff3a2561946a97f96266/pyLDAvis-2.1.2.tar.gz (1.6MB)\n",
      "Requirement already satisfied: wheel>=0.23.0 in c:\\programdata\\anaconda3\\lib\\site-packages (from pyldavis) (0.30.0)\n",
      "Requirement already satisfied: numpy>=1.9.2 in c:\\programdata\\anaconda3\\lib\\site-packages (from pyldavis) (1.14.0)\n",
      "Requirement already satisfied: scipy>=0.18.0 in c:\\programdata\\anaconda3\\lib\\site-packages (from pyldavis) (1.0.0)\n",
      "Requirement already satisfied: pandas>=0.17.0 in c:\\programdata\\anaconda3\\lib\\site-packages (from pyldavis) (0.22.0)\n",
      "Collecting joblib>=0.8.4 (from pyldavis)\n",
      "  Downloading https://files.pythonhosted.org/packages/cd/c1/50a758e8247561e58cb87305b1e90b171b8c767b15b12a1734001f41d356/joblib-0.13.2-py2.py3-none-any.whl (278kB)\n",
      "Requirement already satisfied: jinja2>=2.7.2 in c:\\programdata\\anaconda3\\lib\\site-packages (from pyldavis) (2.10)\n",
      "Requirement already satisfied: numexpr in c:\\programdata\\anaconda3\\lib\\site-packages (from pyldavis) (2.6.4)\n",
      "Requirement already satisfied: pytest in c:\\programdata\\anaconda3\\lib\\site-packages (from pyldavis) (3.3.2)\n",
      "Collecting future (from pyldavis)\n",
      "  Downloading https://files.pythonhosted.org/packages/90/52/e20466b85000a181e1e144fd8305caf2cf475e2f9674e797b222f8105f5f/future-0.17.1.tar.gz (829kB)\n",
      "Collecting funcy (from pyldavis)\n",
      "  Downloading https://files.pythonhosted.org/packages/47/a4/204fa23012e913839c2da4514b92f17da82bf5fc8c2c3d902fa3fa3c6eec/funcy-1.11-py2.py3-none-any.whl\n",
      "Requirement already satisfied: python-dateutil>=2 in c:\\programdata\\anaconda3\\lib\\site-packages (from pandas>=0.17.0->pyldavis) (2.6.1)\n",
      "Requirement already satisfied: pytz>=2011k in c:\\programdata\\anaconda3\\lib\\site-packages (from pandas>=0.17.0->pyldavis) (2017.3)\n",
      "Requirement already satisfied: MarkupSafe>=0.23 in c:\\programdata\\anaconda3\\lib\\site-packages (from jinja2>=2.7.2->pyldavis) (1.0)\n",
      "Requirement already satisfied: py>=1.5.0 in c:\\programdata\\anaconda3\\lib\\site-packages (from pytest->pyldavis) (1.5.2)\n",
      "Requirement already satisfied: six>=1.10.0 in c:\\programdata\\anaconda3\\lib\\site-packages (from pytest->pyldavis) (1.11.0)\n",
      "Requirement already satisfied: setuptools in c:\\programdata\\anaconda3\\lib\\site-packages (from pytest->pyldavis) (38.4.0)\n",
      "Requirement already satisfied: attrs>=17.2.0 in c:\\programdata\\anaconda3\\lib\\site-packages (from pytest->pyldavis) (17.4.0)\n",
      "Requirement already satisfied: pluggy<0.7,>=0.5 in c:\\programdata\\anaconda3\\lib\\site-packages (from pytest->pyldavis) (0.6.0)\n",
      "Requirement already satisfied: colorama in c:\\programdata\\anaconda3\\lib\\site-packages (from pytest->pyldavis) (0.3.9)\n",
      "Building wheels for collected packages: pyldavis, future\n",
      "  Building wheel for pyldavis (setup.py): started\n",
      "  Building wheel for pyldavis (setup.py): finished with status 'done'\n",
      "  Stored in directory: C:\\Users\\venkat\\AppData\\Local\\pip\\Cache\\wheels\\98\\71\\24\\513a99e58bb6b8465bae4d2d5e9dba8f0bef8179e3051ac414\n",
      "  Building wheel for future (setup.py): started\n",
      "  Building wheel for future (setup.py): finished with status 'done'\n",
      "  Stored in directory: C:\\Users\\venkat\\AppData\\Local\\pip\\Cache\\wheels\\0c\\61\\d2\\d6b7317325828fbb39ee6ad559dbe4664d0896da4721bf379e\n",
      "Successfully built pyldavis future\n",
      "Installing collected packages: joblib, future, funcy, pyldavis\n",
      "Successfully installed funcy-1.11 future-0.17.1 joblib-0.13.2 pyldavis-2.1.2\n"
     ]
    }
   ],
   "source": [
    "!pip install pyldavis"
   ]
  },
  {
   "cell_type": "code",
   "execution_count": 2,
   "metadata": {},
   "outputs": [
    {
     "name": "stderr",
     "output_type": "stream",
     "text": [
      "C:\\ProgramData\\Anaconda3\\lib\\site-packages\\nltk\\twitter\\__init__.py:20: UserWarning: The twython library has not been installed. Some functionality from the twitter package will not be available.\n",
      "  warnings.warn(\"The twython library has not been installed. \"\n"
     ]
    }
   ],
   "source": [
    "import pandas as pd\n",
    "import numpy as np\n",
    "import nltk\n",
    "from nltk.sentiment import SentimentIntensityAnalyzer"
   ]
  },
  {
   "cell_type": "code",
   "execution_count": 4,
   "metadata": {},
   "outputs": [
    {
     "data": {
      "text/plain": [
       "(100000, 8)"
      ]
     },
     "execution_count": 4,
     "metadata": {},
     "output_type": "execute_result"
    }
   ],
   "source": [
    "amazon = pd.read_csv('E:/Term3/Unstructured/amazon_reviews_big.csv')\n",
    "amazon.shape"
   ]
  },
  {
   "cell_type": "code",
   "execution_count": 6,
   "metadata": {},
   "outputs": [
    {
     "data": {
      "text/plain": [
       "100000"
      ]
     },
     "execution_count": 6,
     "metadata": {},
     "output_type": "execute_result"
    }
   ],
   "source": [
    "docs_clean =[]\n",
    "docs = amazon['reviewText'].fillna('').str.lower().str.replace('[^a-z ]','')\n",
    "stopwords = nltk.corpus.stopwords.words('english')\n",
    "stopwords.extend(['','use','good','like','great','work','one'])\n",
    "stemmer = nltk.stem.PorterStemmer()\n",
    "\n",
    "for doc in docs:\n",
    "    words = doc.split(' ')\n",
    "    words_clean = [stemmer.stem(word) for word in words if stemmer.stem(word) not in stopwords]\n",
    "    docs_clean.append(words_clean)\n",
    "len(docs_clean)"
   ]
  },
  {
   "cell_type": "code",
   "execution_count": 8,
   "metadata": {},
   "outputs": [
    {
     "name": "stderr",
     "output_type": "stream",
     "text": [
      "C:\\ProgramData\\Anaconda3\\lib\\site-packages\\boto\\__init__.py:1142: DeprecationWarning: invalid escape sequence \\c\n",
      "  \"\"\"\n",
      "C:\\ProgramData\\Anaconda3\\lib\\site-packages\\boto\\pyami\\config.py:98: DeprecationWarning: invalid escape sequence \\s\n",
      "  match = re.match(\"^#import[\\s\\t]*([^\\s^\\t]*)[\\s\\t]*$\", line)\n",
      "C:\\ProgramData\\Anaconda3\\lib\\site-packages\\scipy\\sparse\\sparsetools.py:20: DeprecationWarning: `scipy.sparse.sparsetools` is deprecated!\n",
      "scipy.sparse.sparsetools is a private module for scipy.sparse, and should not be used.\n",
      "  _deprecated()\n"
     ]
    },
    {
     "data": {
      "text/plain": [
       "<gensim.corpora.dictionary.Dictionary at 0xae19d8add8>"
      ]
     },
     "execution_count": 8,
     "metadata": {},
     "output_type": "execute_result"
    }
   ],
   "source": [
    "import gensim\n",
    "dictionary = gensim.corpora.Dictionary(docs_clean)\n",
    "dictionary"
   ]
  },
  {
   "cell_type": "code",
   "execution_count": 10,
   "metadata": {},
   "outputs": [],
   "source": [
    "docs_bow =[]\n",
    "for doc in docs_clean:\n",
    "    doc_bow = dictionary.doc2bow(doc) #Takes 1 document at a time and identifies its frequency along with its ID(from dictionary)\n",
    "    docs_bow.append(doc_bow)"
   ]
  },
  {
   "cell_type": "code",
   "execution_count": 11,
   "metadata": {
    "collapsed": true
   },
   "outputs": [
    {
     "data": {
      "text/plain": [
       "[(0, 1),\n",
       " (1, 2),\n",
       " (2, 1),\n",
       " (3, 1),\n",
       " (4, 1),\n",
       " (5, 1),\n",
       " (6, 1),\n",
       " (7, 1),\n",
       " (8, 1),\n",
       " (9, 5),\n",
       " (10, 1),\n",
       " (11, 1),\n",
       " (12, 3),\n",
       " (13, 1),\n",
       " (14, 2),\n",
       " (15, 1),\n",
       " (16, 1),\n",
       " (17, 1),\n",
       " (18, 1),\n",
       " (19, 1),\n",
       " (20, 1),\n",
       " (21, 1),\n",
       " (22, 2),\n",
       " (23, 1),\n",
       " (24, 1),\n",
       " (25, 1),\n",
       " (26, 1),\n",
       " (27, 1),\n",
       " (28, 1),\n",
       " (29, 1),\n",
       " (30, 1),\n",
       " (31, 2),\n",
       " (32, 1),\n",
       " (33, 1),\n",
       " (34, 1),\n",
       " (35, 1),\n",
       " (36, 1),\n",
       " (37, 1),\n",
       " (38, 2),\n",
       " (39, 2),\n",
       " (40, 1),\n",
       " (41, 1),\n",
       " (42, 1),\n",
       " (43, 1),\n",
       " (44, 1),\n",
       " (45, 1),\n",
       " (46, 1),\n",
       " (47, 3),\n",
       " (48, 1),\n",
       " (49, 1),\n",
       " (50, 1),\n",
       " (51, 1),\n",
       " (52, 1),\n",
       " (53, 2),\n",
       " (54, 1),\n",
       " (55, 1),\n",
       " (56, 1)]"
      ]
     },
     "execution_count": 11,
     "metadata": {},
     "output_type": "execute_result"
    }
   ],
   "source": [
    "dictionary.doc2bow(docs_clean[0])"
   ]
  },
  {
   "cell_type": "code",
   "execution_count": 12,
   "metadata": {},
   "outputs": [],
   "source": [
    "lda_model = gensim.models.LdaModel(docs_bow,id2word = dictionary,num_topics=6)"
   ]
  },
  {
   "cell_type": "code",
   "execution_count": 13,
   "metadata": {},
   "outputs": [
    {
     "data": {
      "text/plain": [
       "[(0, 0.7346129),\n",
       " (1, 0.037547726),\n",
       " (2, 0.035249908),\n",
       " (4, 0.054504093),\n",
       " (5, 0.13567847)]"
      ]
     },
     "execution_count": 13,
     "metadata": {},
     "output_type": "execute_result"
    }
   ],
   "source": [
    "lda_model.get_document_topics(docs_bow[0]) #This is relation between Topic and documents"
   ]
  },
  {
   "cell_type": "code",
   "execution_count": 14,
   "metadata": {},
   "outputs": [
    {
     "data": {
      "text/plain": [
       "[(0,\n",
       "  '0.032*\"thi\" + 0.028*\"cabl\" + 0.021*\"wa\" + 0.018*\"connect\" + 0.010*\"devic\" + 0.009*\"router\" + 0.008*\"need\" + 0.008*\"plug\" + 0.008*\"power\" + 0.008*\"product\"'),\n",
       " (1,\n",
       "  '0.029*\"thi\" + 0.016*\"drive\" + 0.013*\"wa\" + 0.012*\"batteri\" + 0.012*\"card\" + 0.009*\"usb\" + 0.008*\"charg\" + 0.007*\"time\" + 0.007*\"comput\" + 0.006*\"get\"'),\n",
       " (2,\n",
       "  '0.027*\"thi\" + 0.018*\"camera\" + 0.010*\"wa\" + 0.009*\"tv\" + 0.009*\"pictur\" + 0.009*\"len\" + 0.008*\"get\" + 0.007*\"video\" + 0.007*\"veri\" + 0.006*\"set\"'),\n",
       " (3,\n",
       "  '0.026*\"thi\" + 0.024*\"keyboard\" + 0.018*\"mous\" + 0.012*\"button\" + 0.012*\"key\" + 0.011*\"laptop\" + 0.009*\"monitor\" + 0.009*\"veri\" + 0.009*\"fan\" + 0.007*\"ha\"'),\n",
       " (4,\n",
       "  '0.030*\"thi\" + 0.021*\"case\" + 0.012*\"fit\" + 0.012*\"veri\" + 0.009*\"wa\" + 0.009*\"well\" + 0.008*\"cover\" + 0.008*\"ipad\" + 0.007*\"would\" + 0.007*\"look\"'),\n",
       " (5,\n",
       "  '0.027*\"sound\" + 0.016*\"thi\" + 0.015*\"speaker\" + 0.010*\"wa\" + 0.010*\"headphon\" + 0.009*\"qualiti\" + 0.008*\"veri\" + 0.008*\"music\" + 0.007*\"get\" + 0.007*\"ear\"')]"
      ]
     },
     "execution_count": 14,
     "metadata": {},
     "output_type": "execute_result"
    }
   ],
   "source": [
    "# Now relation between Topics and words\n",
    "lda_model.print_topics()"
   ]
  },
  {
   "cell_type": "code",
   "execution_count": 16,
   "metadata": {},
   "outputs": [],
   "source": [
    "import pyLDAvis\n",
    "import pyLDAvis.gensim\n",
    "import matplotlib.pyplot as plt\n",
    "%matplotlib inline"
   ]
  },
  {
   "cell_type": "code",
   "execution_count": 19,
   "metadata": {},
   "outputs": [
    {
     "name": "stderr",
     "output_type": "stream",
     "text": [
      "C:\\ProgramData\\Anaconda3\\lib\\site-packages\\numexpr\\cpuinfo.py:109: DeprecationWarning: invalid escape sequence \\d\n",
      "  nbits = re.compile('(\\d+)bit').search(abits).group(1)\n",
      "C:\\ProgramData\\Anaconda3\\lib\\site-packages\\numexpr\\cpuinfo.py:662: DeprecationWarning: invalid escape sequence \\s\n",
      "  \"\\s+stepping\\s+(?P<STP>\\d+)\", re.IGNORECASE)\n"
     ]
    },
    {
     "data": {
      "text/html": [
       "\n",
       "<link rel=\"stylesheet\" type=\"text/css\" href=\"https://cdn.rawgit.com/bmabey/pyLDAvis/files/ldavis.v1.0.0.css\">\n",
       "\n",
       "\n",
       "<div id=\"ldavis_el51967477820431123752848152\"></div>\n",
       "<script type=\"text/javascript\">\n",
       "\n",
       "var ldavis_el51967477820431123752848152_data = {\"mdsDat\": {\"Freq\": [22.810625076293945, 22.362916946411133, 17.936079025268555, 15.506564140319824, 13.822595596313477, 7.561216354370117], \"cluster\": [1, 1, 1, 1, 1, 1], \"topics\": [1, 2, 3, 4, 5, 6], \"x\": [0.020267996616314305, 0.07513962899010285, -0.11486722825592784, -0.004302014193671172, 0.13775014688624168, -0.11398853004305995], \"y\": [0.072296590597686, -0.060908590613989066, 0.026736975963884975, 0.09922157408007612, -0.03593621236958756, -0.10141033765807052]}, \"tinfo\": {\"Category\": [\"Default\", \"Default\", \"Default\", \"Default\", \"Default\", \"Default\", \"Default\", \"Default\", \"Default\", \"Default\", \"Default\", \"Default\", \"Default\", \"Default\", \"Default\", \"Default\", \"Default\", \"Default\", \"Default\", \"Default\", \"Default\", \"Default\", \"Default\", \"Default\", \"Default\", \"Default\", \"Default\", \"Default\", \"Default\", \"Default\", \"Topic1\", \"Topic1\", \"Topic1\", \"Topic1\", \"Topic1\", \"Topic1\", \"Topic1\", \"Topic1\", \"Topic1\", \"Topic1\", \"Topic1\", \"Topic1\", \"Topic1\", \"Topic1\", \"Topic1\", \"Topic1\", \"Topic1\", \"Topic1\", \"Topic1\", \"Topic1\", \"Topic1\", \"Topic1\", \"Topic1\", \"Topic1\", \"Topic1\", \"Topic1\", \"Topic1\", \"Topic1\", \"Topic1\", \"Topic1\", \"Topic1\", \"Topic1\", \"Topic1\", \"Topic1\", \"Topic1\", \"Topic1\", \"Topic1\", \"Topic1\", \"Topic1\", \"Topic1\", \"Topic1\", \"Topic1\", \"Topic1\", \"Topic1\", \"Topic1\", \"Topic1\", \"Topic1\", \"Topic1\", \"Topic1\", \"Topic1\", \"Topic1\", \"Topic1\", \"Topic1\", \"Topic1\", \"Topic1\", \"Topic1\", \"Topic1\", \"Topic1\", \"Topic1\", \"Topic1\", \"Topic1\", \"Topic1\", \"Topic1\", \"Topic1\", \"Topic1\", \"Topic1\", \"Topic1\", \"Topic1\", \"Topic1\", \"Topic1\", \"Topic1\", \"Topic1\", \"Topic1\", \"Topic1\", \"Topic1\", \"Topic1\", \"Topic1\", \"Topic1\", \"Topic1\", \"Topic1\", \"Topic1\", \"Topic1\", \"Topic1\", \"Topic1\", \"Topic1\", \"Topic1\", \"Topic1\", \"Topic1\", \"Topic1\", \"Topic1\", \"Topic1\", \"Topic1\", \"Topic1\", \"Topic1\", \"Topic2\", \"Topic2\", \"Topic2\", \"Topic2\", \"Topic2\", \"Topic2\", \"Topic2\", \"Topic2\", \"Topic2\", \"Topic2\", \"Topic2\", \"Topic2\", \"Topic2\", \"Topic2\", \"Topic2\", \"Topic2\", \"Topic2\", \"Topic2\", \"Topic2\", \"Topic2\", \"Topic2\", \"Topic2\", \"Topic2\", \"Topic2\", \"Topic2\", \"Topic2\", \"Topic2\", \"Topic2\", \"Topic2\", \"Topic2\", \"Topic2\", \"Topic2\", \"Topic2\", \"Topic2\", \"Topic2\", \"Topic2\", \"Topic2\", \"Topic2\", \"Topic2\", \"Topic2\", \"Topic2\", \"Topic2\", \"Topic2\", \"Topic2\", \"Topic2\", \"Topic2\", \"Topic2\", \"Topic2\", \"Topic2\", \"Topic2\", \"Topic2\", \"Topic2\", \"Topic2\", \"Topic2\", \"Topic2\", \"Topic2\", \"Topic2\", \"Topic2\", \"Topic2\", \"Topic2\", \"Topic2\", \"Topic2\", \"Topic2\", \"Topic2\", \"Topic2\", \"Topic2\", \"Topic2\", \"Topic2\", \"Topic2\", \"Topic2\", \"Topic2\", \"Topic2\", \"Topic2\", \"Topic2\", \"Topic2\", \"Topic2\", \"Topic2\", \"Topic2\", \"Topic2\", \"Topic2\", \"Topic2\", \"Topic2\", \"Topic2\", \"Topic2\", \"Topic2\", \"Topic2\", \"Topic3\", \"Topic3\", \"Topic3\", \"Topic3\", \"Topic3\", \"Topic3\", \"Topic3\", \"Topic3\", \"Topic3\", \"Topic3\", \"Topic3\", \"Topic3\", \"Topic3\", \"Topic3\", \"Topic3\", \"Topic3\", \"Topic3\", \"Topic3\", \"Topic3\", \"Topic3\", \"Topic3\", \"Topic3\", \"Topic3\", \"Topic3\", \"Topic3\", \"Topic3\", \"Topic3\", \"Topic3\", \"Topic3\", \"Topic3\", \"Topic3\", \"Topic3\", \"Topic3\", \"Topic3\", \"Topic3\", \"Topic3\", \"Topic3\", \"Topic3\", \"Topic3\", \"Topic3\", \"Topic3\", \"Topic3\", \"Topic3\", \"Topic3\", \"Topic3\", \"Topic3\", \"Topic3\", \"Topic3\", \"Topic3\", \"Topic3\", \"Topic3\", \"Topic3\", \"Topic3\", \"Topic3\", \"Topic3\", \"Topic3\", \"Topic3\", \"Topic3\", \"Topic3\", \"Topic3\", \"Topic3\", \"Topic3\", \"Topic3\", \"Topic3\", \"Topic3\", \"Topic3\", \"Topic3\", \"Topic3\", \"Topic3\", \"Topic3\", \"Topic3\", \"Topic3\", \"Topic3\", \"Topic3\", \"Topic3\", \"Topic3\", \"Topic3\", \"Topic3\", \"Topic3\", \"Topic3\", \"Topic3\", \"Topic3\", \"Topic3\", \"Topic3\", \"Topic3\", \"Topic3\", \"Topic3\", \"Topic4\", \"Topic4\", \"Topic4\", \"Topic4\", \"Topic4\", \"Topic4\", \"Topic4\", \"Topic4\", \"Topic4\", \"Topic4\", \"Topic4\", \"Topic4\", \"Topic4\", \"Topic4\", \"Topic4\", \"Topic4\", \"Topic4\", \"Topic4\", \"Topic4\", \"Topic4\", \"Topic4\", \"Topic4\", \"Topic4\", \"Topic4\", \"Topic4\", \"Topic4\", \"Topic4\", \"Topic4\", \"Topic4\", \"Topic4\", \"Topic4\", \"Topic4\", \"Topic4\", \"Topic4\", \"Topic4\", \"Topic4\", \"Topic4\", \"Topic4\", \"Topic4\", \"Topic4\", \"Topic4\", \"Topic4\", \"Topic4\", \"Topic4\", \"Topic4\", \"Topic4\", \"Topic4\", \"Topic4\", \"Topic4\", \"Topic4\", \"Topic4\", \"Topic4\", \"Topic4\", \"Topic4\", \"Topic4\", \"Topic4\", \"Topic4\", \"Topic4\", \"Topic4\", \"Topic4\", \"Topic4\", \"Topic4\", \"Topic4\", \"Topic4\", \"Topic4\", \"Topic4\", \"Topic4\", \"Topic4\", \"Topic4\", \"Topic4\", \"Topic4\", \"Topic4\", \"Topic5\", \"Topic5\", \"Topic5\", \"Topic5\", \"Topic5\", \"Topic5\", \"Topic5\", \"Topic5\", \"Topic5\", \"Topic5\", \"Topic5\", \"Topic5\", \"Topic5\", \"Topic5\", \"Topic5\", \"Topic5\", \"Topic5\", \"Topic5\", \"Topic5\", \"Topic5\", \"Topic5\", \"Topic5\", \"Topic5\", \"Topic5\", \"Topic5\", \"Topic5\", \"Topic5\", \"Topic5\", \"Topic5\", \"Topic5\", \"Topic5\", \"Topic5\", \"Topic5\", \"Topic5\", \"Topic5\", \"Topic5\", \"Topic5\", \"Topic5\", \"Topic5\", \"Topic5\", \"Topic5\", \"Topic5\", \"Topic5\", \"Topic5\", \"Topic5\", \"Topic5\", \"Topic5\", \"Topic5\", \"Topic5\", \"Topic5\", \"Topic5\", \"Topic5\", \"Topic5\", \"Topic5\", \"Topic5\", \"Topic5\", \"Topic5\", \"Topic5\", \"Topic5\", \"Topic5\", \"Topic5\", \"Topic5\", \"Topic5\", \"Topic5\", \"Topic5\", \"Topic5\", \"Topic5\", \"Topic5\", \"Topic5\", \"Topic5\", \"Topic5\", \"Topic5\", \"Topic5\", \"Topic5\", \"Topic5\", \"Topic5\", \"Topic5\", \"Topic5\", \"Topic5\", \"Topic5\", \"Topic5\", \"Topic6\", \"Topic6\", \"Topic6\", \"Topic6\", \"Topic6\", \"Topic6\", \"Topic6\", \"Topic6\", \"Topic6\", \"Topic6\", \"Topic6\", \"Topic6\", \"Topic6\", \"Topic6\", \"Topic6\", \"Topic6\", \"Topic6\", \"Topic6\", \"Topic6\", \"Topic6\", \"Topic6\", \"Topic6\", \"Topic6\", \"Topic6\", \"Topic6\", \"Topic6\", \"Topic6\", \"Topic6\", \"Topic6\", \"Topic6\", \"Topic6\", \"Topic6\", \"Topic6\", \"Topic6\", \"Topic6\", \"Topic6\", \"Topic6\", \"Topic6\", \"Topic6\", \"Topic6\", \"Topic6\", \"Topic6\", \"Topic6\", \"Topic6\", \"Topic6\", \"Topic6\", \"Topic6\", \"Topic6\", \"Topic6\", \"Topic6\", \"Topic6\", \"Topic6\", \"Topic6\", \"Topic6\", \"Topic6\", \"Topic6\", \"Topic6\", \"Topic6\", \"Topic6\", \"Topic6\", \"Topic6\", \"Topic6\", \"Topic6\", \"Topic6\", \"Topic6\", \"Topic6\", \"Topic6\", \"Topic6\", \"Topic6\", \"Topic6\", \"Topic6\", \"Topic6\", \"Topic6\", \"Topic6\", \"Topic6\", \"Topic6\", \"Topic6\", \"Topic6\", \"Topic6\", \"Topic6\"], \"Freq\": [25108.0, 24536.0, 25326.0, 21477.0, 29536.0, 10778.0, 13713.0, 17335.0, 16070.0, 8239.0, 9117.0, 15294.0, 12568.0, 17023.0, 9815.0, 11401.0, 13221.0, 7255.0, 20838.0, 5249.0, 16690.0, 8019.0, 8553.0, 7433.0, 161259.0, 6730.0, 6070.0, 7557.0, 5964.0, 7291.0, 2357.287841796875, 1176.5191650390625, 734.181640625, 687.0232543945312, 612.000732421875, 604.8995971679688, 516.15283203125, 506.72552490234375, 540.1182861328125, 510.38568115234375, 541.916259765625, 349.0694274902344, 344.19140625, 326.5809631347656, 310.6776123046875, 302.8000793457031, 352.3407897949219, 261.9552917480469, 842.7653198242188, 250.9593048095703, 238.86224365234375, 249.85809326171875, 379.2082824707031, 210.3434295654297, 210.8347930908203, 207.88504028320312, 217.17373657226562, 218.89633178710938, 205.69134521484375, 221.81802368164062, 3607.571533203125, 1606.883544921875, 1117.744384765625, 880.8253784179688, 790.3642578125, 881.4815063476562, 648.2396850585938, 2293.024658203125, 838.7047119140625, 561.1509399414062, 12053.5986328125, 5326.44580078125, 3664.4326171875, 2679.14111328125, 753.662353515625, 2281.91552734375, 7845.09326171875, 4078.003173828125, 11597.1962890625, 2225.92431640625, 1861.473388671875, 23876.462890625, 2232.479736328125, 4862.02197265625, 4955.326171875, 4817.98828125, 1277.49462890625, 2010.0262451171875, 9875.8623046875, 12115.451171875, 1829.5421142578125, 4542.8359375, 4021.96826171875, 1659.503662109375, 4046.4462890625, 3137.037109375, 4083.851318359375, 2962.857421875, 3553.279052734375, 3661.753662109375, 37345.140625, 7545.05810546875, 8778.529296875, 5567.1279296875, 5724.89599609375, 7954.73095703125, 10661.0693359375, 13673.3720703125, 3722.952392578125, 8374.2763671875, 9630.55078125, 6414.49072265625, 6595.9638671875, 5301.81982421875, 5928.3076171875, 6439.87109375, 5570.5517578125, 6026.39453125, 5648.86767578125, 5393.5390625, 5170.13427734375, 5167.033203125, 4986.1962890625, 4960.32763671875, 7288.09765625, 1941.387451171875, 1669.3946533203125, 1228.3846435546875, 1108.6019287109375, 1953.4034423828125, 1611.36376953125, 574.542236328125, 565.9508056640625, 1083.6455078125, 469.3737487792969, 441.7327880859375, 538.5816650390625, 399.62249755859375, 522.6146850585938, 379.1434631347656, 374.63543701171875, 564.8709106445312, 318.4146728515625, 311.2723083496094, 295.2721252441406, 283.27789306640625, 264.1287841796875, 464.9711608886719, 370.5312805175781, 518.981689453125, 297.0552673339844, 230.25186157226562, 550.02734375, 227.6777801513672, 21389.8828125, 15846.2529296875, 1095.0211181640625, 1152.5081787109375, 1705.2266845703125, 1022.987548828125, 631.6473388671875, 892.4883422851562, 391.4306640625, 2105.926513671875, 2728.09912109375, 2998.73046875, 4656.45556640625, 1465.9913330078125, 2198.24267578125, 1357.228515625, 5143.5048828125, 2742.721435546875, 1119.6695556640625, 1179.43212890625, 16622.2578125, 10042.5810546875, 2463.653564453125, 6311.5, 12158.455078125, 5463.68896484375, 3876.42431640625, 9057.330078125, 2762.45751953125, 2254.341796875, 3040.636962890625, 2749.743408203125, 6302.23583984375, 5824.0029296875, 6968.21630859375, 38452.51953125, 4125.8173828125, 17950.69140625, 4131.59814453125, 9069.2080078125, 6277.287109375, 6625.07568359375, 6266.009765625, 5341.32177734375, 4838.0224609375, 7257.80029296875, 7857.115234375, 8073.3125, 6770.84912109375, 6983.48095703125, 4789.72607421875, 5450.404296875, 6188.9384765625, 5048.81787109375, 5079.17333984375, 4839.1474609375, 3230.4775390625, 6728.33349609375, 1133.250732421875, 1170.6160888671875, 826.1231689453125, 1474.80615234375, 645.7293090820312, 507.5462341308594, 832.4400634765625, 477.0541687011719, 378.55126953125, 567.7015991210938, 305.7039794921875, 767.5272827148438, 283.4716796875, 266.7004089355469, 309.2879638671875, 276.32879638671875, 871.6094970703125, 280.1031494140625, 260.3095703125, 241.92941284179688, 216.85357666015625, 206.62966918945312, 200.1668243408203, 269.6585693359375, 206.4658660888672, 191.2973175048828, 185.45887756347656, 181.4037322998047, 7318.6279296875, 1135.0799560546875, 4833.10205078125, 3417.936767578125, 1279.2373046875, 745.1748657226562, 3523.90869140625, 482.3784484863281, 8203.546875, 1271.4534912109375, 402.8174133300781, 22944.630859375, 1754.99169921875, 1100.1448974609375, 414.66552734375, 2823.126708984375, 1469.7493896484375, 941.9717407226562, 2410.952392578125, 8105.3994140625, 12709.30078125, 6348.080078125, 1363.174072265625, 4103.41259765625, 4119.46240234375, 1623.1845703125, 6319.578125, 2230.794189453125, 1439.5162353515625, 2059.974609375, 3222.624755859375, 2614.830322265625, 2792.7470703125, 32317.650390625, 9980.4716796875, 6674.74072265625, 12425.01953125, 2204.5322265625, 5894.7529296875, 7406.1591796875, 4187.2412109375, 4371.90234375, 4258.01611328125, 5473.51220703125, 7676.529296875, 10043.732421875, 5749.384765625, 4326.63623046875, 5188.390625, 5822.224609375, 5600.9208984375, 6028.05029296875, 4969.6416015625, 5327.68798828125, 4978.02099609375, 4850.1259765625, 4767.83935546875, 4666.0732421875, 13709.99609375, 4924.595703125, 9112.234375, 1525.706298828125, 1181.755859375, 1558.902099609375, 734.7894897460938, 25077.759765625, 6063.35791015625, 2479.112548828125, 616.9942016601562, 601.2922973632812, 573.86962890625, 485.6918640136719, 477.58392333984375, 494.4921569824219, 401.9704284667969, 405.5414123535156, 428.3038024902344, 385.21710205078125, 1676.545166015625, 362.5775146484375, 354.2679748535156, 330.28460693359375, 2318.010009765625, 300.2782287597656, 272.8894348144531, 267.11700439453125, 262.23760986328125, 1640.6768798828125, 1411.9949951171875, 3533.725830078125, 4918.548828125, 1206.614013671875, 7465.2978515625, 1393.0264892578125, 2335.296142578125, 2126.9638671875, 901.2272338867188, 4688.86572265625, 4037.18115234375, 1483.9591064453125, 4688.94775390625, 1120.3084716796875, 3212.273193359375, 4453.05859375, 1832.051513671875, 1165.0428466796875, 8651.7314453125, 2650.30322265625, 3757.171630859375, 2255.38427734375, 2476.78564453125, 3876.5751953125, 5061.80615234375, 3720.48681640625, 14880.0537109375, 7754.330078125, 9548.912109375, 5067.29345703125, 6376.79833984375, 4889.94580078125, 4716.19873046875, 4525.923828125, 4191.92431640625, 4814.3251953125, 3902.75244140625, 3921.8515625, 3996.34716796875, 3854.195556640625, 3796.064208984375, 7254.1328125, 1495.4453125, 1549.1842041015625, 928.366455078125, 927.5243530273438, 579.19970703125, 448.4788818359375, 361.56195068359375, 333.36724853515625, 277.8210144042969, 257.2871398925781, 240.28504943847656, 356.618408203125, 230.72010803222656, 226.2414093017578, 213.20352172851562, 204.44981384277344, 187.554443359375, 179.42010498046875, 176.45730590820312, 175.81211853027344, 162.30245971679688, 153.6210479736328, 141.62355041503906, 196.91342163085938, 131.33721923828125, 132.52745056152344, 135.67054748535156, 152.03656005859375, 125.4487075805664, 23443.470703125, 432.0836181640625, 4493.2080078125, 357.5195007324219, 592.1835327148438, 197.1024169921875, 4864.34619140625, 3702.913818359375, 354.6233825683594, 14795.779296875, 4996.103515625, 1522.834228515625, 744.6764526367188, 904.933349609375, 5957.79638671875, 1337.2740478515625, 911.493896484375, 458.5934753417969, 2768.271484375, 2441.9091796875, 1084.263427734375, 2949.693603515625, 5729.96337890625, 892.7233276367188, 3907.985107421875, 6948.73828125, 3414.33642578125, 2484.123046875, 8455.560546875, 4447.8525390625, 4529.88623046875, 2301.74755859375, 6286.3583984375, 16882.162109375, 26375.84375, 3488.415283203125, 2887.425048828125, 6247.72900390625, 6964.23193359375, 3153.309814453125, 5028.3359375, 4270.4365234375, 4610.3388671875, 4052.752685546875, 6013.7890625, 5521.82568359375, 4257.8212890625, 3903.02783203125, 4202.10693359375, 3621.414306640625, 3631.343017578125, 8238.5048828125, 10776.8466796875, 647.5545043945312, 361.0621337890625, 362.4952087402344, 525.5192260742188, 315.7998352050781, 5232.4189453125, 227.7012481689453, 233.3489990234375, 189.72593688964844, 176.20184326171875, 175.31727600097656, 171.835693359375, 168.8766326904297, 147.298583984375, 147.314208984375, 125.13107299804688, 130.8231658935547, 152.15206909179688, 132.31741333007812, 283.2447204589844, 111.68524932861328, 145.3603973388672, 111.3958511352539, 108.64971923828125, 106.34276580810547, 164.11859130859375, 102.2125015258789, 98.57452392578125, 1558.9327392578125, 489.1077880859375, 441.28729248046875, 124.60538482666016, 1204.0048828125, 4089.905029296875, 187.08775329589844, 2574.457275390625, 1262.7191162109375, 214.3712615966797, 357.889892578125, 4170.30615234375, 1346.50732421875, 900.74072265625, 5252.5908203125, 377.4268798828125, 451.1275329589844, 1129.64794921875, 1883.3778076171875, 2763.08447265625, 4750.40185546875, 1519.6314697265625, 1435.022216796875, 1358.9189453125, 2219.65478515625, 1005.8663940429688, 823.7291259765625, 1229.9599609375, 1971.5047607421875, 2449.4892578125, 2847.302734375, 1643.337890625, 11888.4853515625, 1354.517822265625, 1770.5552978515625, 2754.28369140625, 4149.3681640625, 3163.998291015625, 2290.439453125, 2557.82861328125, 2321.556640625, 2243.724609375, 2377.544189453125, 2222.776611328125, 2601.58544921875, 2023.861328125, 2127.308349609375, 1864.4293212890625, 1924.4608154296875, 1895.64599609375], \"Term\": [\"sound\", \"cabl\", \"case\", \"drive\", \"camera\", \"keyboard\", \"speaker\", \"connect\", \"card\", \"mous\", \"headphon\", \"fit\", \"pictur\", \"tv\", \"button\", \"laptop\", \"len\", \"router\", \"batteri\", \"key\", \"usb\", \"music\", \"cover\", \"protect\", \"thi\", \"bag\", \"ear\", \"wireless\", \"monitor\", \"gb\", \"focu\", \"iso\", \"apertur\", \"harmoni\", \"autofocu\", \"tomtom\", \"focal\", \"sigma\", \"vizio\", \"af\", \"scene\", \"uv\", \"chromecast\", \"blur\", \"vcr\", \"crop\", \"megapixel\", \"sharper\", \"plasma\", \"blurri\", \"chromebook\", \"graini\", \"bd\", \"bokeh\", \"sky\", \"flare\", \"daylight\", \"vh\", \"vivid\", \"fl\", \"zoom\", \"map\", \"shutter\", \"indoor\", \"pixel\", \"captur\", \"focus\", \"f\", \"macro\", \"hulu\", \"pictur\", \"imag\", \"shot\", \"lcd\", \"ir\", \"sharp\", \"remot\", \"shoot\", \"len\", \"menu\", \"panason\", \"camera\", \"p\", \"watch\", \"canon\", \"photo\", \"sensor\", \"netflix\", \"video\", \"tv\", \"frame\", \"mm\", \"dvd\", \"garmin\", \"record\", \"manual\", \"movi\", \"view\", \"mode\", \"digit\", \"thi\", \"take\", \"set\", \"featur\", \"light\", \"qualiti\", \"get\", \"wa\", \"soni\", \"ha\", \"veri\", \"want\", \"time\", \"screen\", \"look\", \"would\", \"even\", \"onli\", \"also\", \"realli\", \"better\", \"go\", \"dont\", \"much\", \"gb\", \"ssd\", \"tb\", \"sandisk\", \"seagat\", \"ram\", \"reader\", \"mah\", \"microsd\", \"hdd\", \"kingston\", \"partit\", \"raid\", \"clone\", \"firewir\", \"crucial\", \"rt\", \"bio\", \"benchmark\", \"que\", \"lo\", \"transcend\", \"reformat\", \"de\", \"nvidia\", \"western\", \"ddr\", \"iomega\", \"amd\", \"recoveri\", \"drive\", \"card\", \"intel\", \"wd\", \"boot\", \"core\", \"overclock\", \"gig\", \"gtx\", \"mb\", \"backup\", \"transfer\", \"memori\", \"os\", \"disk\", \"capac\", \"file\", \"data\", \"sata\", \"xp\", \"batteri\", \"charg\", \"machin\", \"window\", \"usb\", \"softwar\", \"charger\", \"comput\", \"extern\", \"storag\", \"mac\", \"driver\", \"run\", \"hard\", \"instal\", \"thi\", \"fast\", \"wa\", \"speed\", \"time\", \"power\", \"devic\", \"problem\", \"new\", \"laptop\", \"onli\", \"ha\", \"get\", \"need\", \"would\", \"year\", \"product\", \"veri\", \"bought\", \"ani\", \"buy\", \"strap\", \"bag\", \"zipper\", \"backpack\", \"shoulder\", \"leather\", \"flap\", \"belt\", \"velcro\", \"elast\", \"monopod\", \"tighten\", \"stitch\", \"snug\", \"otterbox\", \"lowepro\", \"bottl\", \"tightli\", \"holder\", \"diffus\", \"jacket\", \"latch\", \"umbrella\", \"manfrotto\", \"fasten\", \"paperwhit\", \"reflector\", \"closur\", \"radar\", \"groov\", \"protect\", \"sleev\", \"kindl\", \"protector\", \"compart\", \"pouch\", \"pocket\", \"purs\", \"cover\", \"bubbl\", \"snugli\", \"case\", \"grip\", \"cloth\", \"clamp\", \"tripod\", \"fold\", \"slip\", \"sturdi\", \"ipad\", \"fit\", \"mount\", \"magnet\", \"carri\", \"plastic\", \"scratch\", \"hold\", \"screw\", \"cap\", \"fire\", \"stand\", \"insid\", \"attach\", \"thi\", \"well\", \"nice\", \"veri\", \"weight\", \"screen\", \"look\", \"made\", \"put\", \"feel\", \"littl\", \"would\", \"wa\", \"product\", \"small\", \"doe\", \"ha\", \"camera\", \"get\", \"make\", \"need\", \"price\", \"also\", \"realli\", \"bass\", \"speaker\", \"listen\", \"headphon\", \"bose\", \"subwoof\", \"sub\", \"audiophil\", \"sound\", \"ear\", \"headset\", \"sennheis\", \"zune\", \"trebl\", \"klipsch\", \"polk\", \"yamaha\", \"inear\", \"eq\", \"midrang\", \"sansa\", \"earphon\", \"jbl\", \"woofer\", \"tinni\", \"earbud\", \"suitabl\", \"headband\", \"hiss\", \"acoust\", \"song\", \"bud\", \"hear\", \"volum\", \"fm\", \"music\", \"mic\", \"stereo\", \"loud\", \"cancel\", \"radio\", \"pair\", \"surround\", \"ipod\", \"microphon\", \"nois\", \"audio\", \"amp\", \"frequenc\", \"qualiti\", \"comfort\", \"player\", \"mp\", \"bluetooth\", \"play\", \"better\", \"system\", \"thi\", \"veri\", \"wa\", \"price\", \"get\", \"dont\", \"realli\", \"much\", \"set\", \"would\", \"im\", \"also\", \"ha\", \"well\", \"onli\", \"router\", \"modem\", \"ethernet\", \"linksi\", \"netgear\", \"dlink\", \"gigabit\", \"cisco\", \"powerlin\", \"mediabridg\", \"upstair\", \"tplink\", \"ralink\", \"ssid\", \"att\", \"slingbox\", \"firewal\", \"ddwrt\", \"crimp\", \"isp\", \"wattag\", \"dhcp\", \"trendnet\", \"wpa\", \"antec\", \"handset\", \"rail\", \"spindl\", \"soundlink\", \"coupler\", \"cabl\", \"lan\", \"network\", \"coax\", \"comcast\", \"bandwidth\", \"signal\", \"antenna\", \"wirelessli\", \"connect\", \"hdmi\", \"outlet\", \"surg\", \"ip\", \"wireless\", \"n\", \"ft\", \"splitter\", \"wifi\", \"connector\", \"mbp\", \"internet\", \"adapt\", \"printer\", \"wire\", \"plug\", \"setup\", \"hous\", \"devic\", \"receiv\", \"port\", \"wall\", \"power\", \"wa\", \"thi\", \"box\", \"switch\", \"product\", \"need\", \"home\", \"problem\", \"unit\", \"tv\", \"instal\", \"get\", \"would\", \"set\", \"onli\", \"veri\", \"well\", \"ha\", \"mous\", \"keyboard\", \"mice\", \"trackbal\", \"targu\", \"lap\", \"inner\", \"key\", \"thrive\", \"keypad\", \"gestur\", \"arduino\", \"wacom\", \"airflow\", \"cramp\", \"revolut\", \"dpi\", \"bamboo\", \"premier\", \"tactil\", \"keystrok\", \"microfib\", \"roller\", \"unifi\", \"symbol\", \"eee\", \"mighti\", \"pointer\", \"razer\", \"crossfir\", \"scroll\", \"mx\", \"touchpad\", \"ur\", \"wheel\", \"fan\", \"cursor\", \"logitech\", \"cooler\", \"smudg\", \"laser\", \"monitor\", \"desk\", \"pen\", \"button\", \"layout\", \"ergonom\", \"finger\", \"cool\", \"type\", \"laptop\", \"click\", \"air\", \"press\", \"touch\", \"surfac\", \"stylu\", \"macbook\", \"hand\", \"tablet\", \"feel\", \"bluetooth\", \"thi\", \"pad\", \"game\", \"screen\", \"veri\", \"ha\", \"nice\", \"look\", \"realli\", \"make\", \"get\", \"well\", \"wa\", \"dont\", \"would\", \"comput\", \"also\", \"onli\"], \"Total\": [25108.0, 24536.0, 25326.0, 21477.0, 29536.0, 10778.0, 13713.0, 17335.0, 16070.0, 8239.0, 9117.0, 15294.0, 12568.0, 17023.0, 9815.0, 11401.0, 13221.0, 7255.0, 20838.0, 5249.0, 16690.0, 8019.0, 8553.0, 7433.0, 161259.0, 6730.0, 6070.0, 7557.0, 5964.0, 7291.0, 2359.2412109375, 1177.827392578125, 735.037109375, 687.9697265625, 612.8987426757812, 605.8710327148438, 516.994384765625, 507.5693359375, 541.0385131835938, 511.29595947265625, 543.0969848632812, 349.9142761230469, 345.04248046875, 327.4498291015625, 311.5271301269531, 303.649169921875, 353.406494140625, 262.81536865234375, 845.6409301757812, 251.8439178466797, 239.71702575683594, 250.7960205078125, 380.72064208984375, 211.18312072753906, 211.6786346435547, 208.72775268554688, 218.06314086914062, 219.81475830078125, 206.56387329101562, 222.77391052246094, 3626.560546875, 1615.4371337890625, 1122.8858642578125, 886.1714477539062, 795.1425170898438, 887.801025390625, 652.0703125, 2336.88427734375, 846.4410400390625, 567.1024780273438, 12568.7333984375, 5516.462890625, 3782.9755859375, 2772.69091796875, 764.4937744140625, 2370.23779296875, 8551.7451171875, 4364.9658203125, 13221.73828125, 2377.831787109375, 1992.1134033203125, 29536.115234375, 2431.966064453125, 5617.6962890625, 5820.9189453125, 5766.947265625, 1367.192626953125, 2272.724853515625, 13453.029296875, 17023.900390625, 2055.024169921875, 5876.18408203125, 5135.35791015625, 1849.4549560546875, 5239.0546875, 3949.01708984375, 5455.32666015625, 3768.9794921875, 4738.427734375, 5049.96533203125, 161259.6875, 15500.2470703125, 19736.431640625, 10074.69921875, 12383.0048828125, 22859.6640625, 39530.56640625, 70700.4609375, 5968.03564453125, 32845.30859375, 44350.30859375, 20712.94921875, 26386.251953125, 15601.783203125, 23589.296875, 33563.33984375, 19401.001953125, 27083.771484375, 22712.4296875, 21480.861328125, 17075.421875, 19502.49609375, 22323.43359375, 20614.775390625, 7291.0234375, 1942.27734375, 1670.3597412109375, 1229.276123046875, 1109.4769287109375, 1954.95654296875, 1613.3123779296875, 575.3986206054688, 566.8383178710938, 1085.394775390625, 470.21392822265625, 442.5926208496094, 539.6380615234375, 400.4870910644531, 523.7556762695312, 380.0001220703125, 375.4967041015625, 566.3517456054688, 319.26824951171875, 312.1132507324219, 296.1251220703125, 284.12493896484375, 264.9771728515625, 466.5031433105469, 371.78106689453125, 520.7636108398438, 298.1023864746094, 231.09359741210938, 552.0611572265625, 228.5229949951172, 21477.060546875, 16070.533203125, 1100.94091796875, 1159.5784912109375, 1728.16357421875, 1031.85302734375, 634.6823120117188, 900.2320556640625, 392.9653625488281, 2158.66748046875, 2813.301025390625, 3129.119140625, 4940.90478515625, 1508.788330078125, 2295.7724609375, 1399.734375, 5536.9931640625, 2910.772705078125, 1156.3577880859375, 1240.4261474609375, 20838.369140625, 12397.208984375, 2742.677001953125, 7803.41162109375, 16690.67578125, 7818.23974609375, 5184.83056640625, 14906.78125, 3479.312744140625, 2735.236328125, 4052.37744140625, 3562.20361328125, 10738.912109375, 9678.1943359375, 12976.912109375, 161259.6875, 6522.271484375, 70700.4609375, 6959.10546875, 26386.251953125, 15373.2099609375, 18574.69921875, 18147.154296875, 13266.0693359375, 11401.76171875, 27083.771484375, 32845.30859375, 39530.56640625, 27647.59765625, 33563.33984375, 12407.7919921875, 21575.9765625, 44350.30859375, 17541.169921875, 19938.88671875, 17261.888671875, 3231.353271484375, 6730.35693359375, 1134.123779296875, 1171.55078125, 826.9707641601562, 1476.3912353515625, 646.7952880859375, 508.40289306640625, 833.8492431640625, 477.9100036621094, 379.4173583984375, 569.141357421875, 306.5963439941406, 769.7935791015625, 284.32061767578125, 267.5414733886719, 310.2886962890625, 277.23822021484375, 874.8472290039062, 281.1476135253906, 261.287841796875, 242.86607360839844, 217.7248077392578, 207.470703125, 201.01873779296875, 270.8180847167969, 207.38360595703125, 192.15440368652344, 186.30645751953125, 182.3285675048828, 7433.1826171875, 1144.2987060546875, 4945.65380859375, 3502.109130859375, 1298.7825927734375, 752.5870971679688, 3626.442626953125, 487.2955322265625, 8553.439453125, 1309.595458984375, 406.61383056640625, 25326.796875, 1843.8289794921875, 1144.009521484375, 419.7160949707031, 3064.53759765625, 1562.6610107421875, 985.0641479492188, 2631.2646484375, 9478.14453125, 15294.0888671875, 7471.5498046875, 1456.832763671875, 4809.556640625, 4871.31005859375, 1815.869873046875, 8550.390625, 2729.033447265625, 1617.4068603515625, 2527.81787109375, 4396.17529296875, 3546.561767578125, 4092.73779296875, 161259.6875, 28312.7578125, 16487.8515625, 44350.30859375, 3108.538818359375, 15601.783203125, 23589.296875, 9039.0166015625, 10551.521484375, 10058.49609375, 17089.27734375, 33563.33984375, 70700.4609375, 21575.9765625, 11431.05859375, 18647.578125, 32845.30859375, 29536.115234375, 39530.56640625, 19655.841796875, 27647.59765625, 22832.421875, 22712.4296875, 21480.861328125, 4666.984375, 13713.12109375, 4927.2373046875, 9117.345703125, 1526.570556640625, 1182.609619140625, 1560.159423828125, 735.651123046875, 25108.513671875, 6070.84912109375, 2482.214111328125, 617.856201171875, 602.1417846679688, 574.7328491210938, 486.5431823730469, 478.43304443359375, 495.5093994140625, 402.81756591796875, 406.3993225097656, 429.2373046875, 386.0957946777344, 1680.4300537109375, 363.4242858886719, 355.11407470703125, 331.140625, 2324.506103515625, 301.1741638183594, 273.7469177246094, 267.9747009277344, 263.08544921875, 1647.6317138671875, 1417.9111328125, 3583.41650390625, 5103.162109375, 1229.2022705078125, 8019.5517578125, 1439.4144287109375, 2493.5224609375, 2308.75537109375, 940.3446044921875, 5430.5224609375, 4736.1328125, 1614.7957763671875, 5805.03759765625, 1228.546142578125, 4148.6123046875, 6243.873046875, 2201.070068359375, 1303.7274169921875, 22859.6640625, 4699.76025390625, 8426.8896484375, 3664.838623046875, 4356.5107421875, 10086.125, 17075.421875, 9839.3154296875, 161259.6875, 44350.30859375, 70700.4609375, 22832.421875, 39530.56640625, 22323.43359375, 21480.861328125, 20614.775390625, 19736.431640625, 33563.33984375, 17685.798828125, 22712.4296875, 32845.30859375, 28312.7578125, 27083.771484375, 7255.27001953125, 1496.3223876953125, 1550.503662109375, 929.2196044921875, 928.3926391601562, 580.1309814453125, 449.4660339355469, 362.439697265625, 334.208984375, 278.660888671875, 258.15155029296875, 241.12765502929688, 357.892822265625, 231.56768798828125, 227.11378479003906, 214.05966186523438, 205.29856872558594, 188.39515686035156, 180.27268981933594, 177.30264282226562, 176.67535400390625, 163.1645050048828, 154.48538208007812, 142.47293090820312, 198.15048217773438, 132.1803436279297, 133.39166259765625, 136.55746459960938, 153.0423126220703, 126.29012298583984, 24536.59375, 436.31365966796875, 4650.25732421875, 361.6737060546875, 602.2279052734375, 198.9046630859375, 5086.10986328125, 3853.379638671875, 362.6071472167969, 17335.935546875, 5692.7333984375, 1655.8582763671875, 792.4725952148438, 978.7499389648438, 7557.2197265625, 1522.3812255859375, 1016.8389282226562, 485.8238830566406, 3570.9921875, 3139.197998046875, 1280.1116943359375, 3997.32763671875, 8510.5830078125, 1037.2154541015625, 6012.3076171875, 12453.0302734375, 5396.2861328125, 3721.0654296875, 18574.69921875, 8622.1904296875, 9285.4453125, 3734.152099609375, 15373.2099609375, 70700.4609375, 161259.6875, 7750.095703125, 5933.97705078125, 21575.9765625, 27647.59765625, 6975.48291015625, 18147.154296875, 13901.251953125, 17023.900390625, 12976.912109375, 39530.56640625, 33563.33984375, 19736.431640625, 27083.771484375, 44350.30859375, 28312.7578125, 32845.30859375, 8239.396484375, 10778.4375, 648.3972778320312, 361.9044494628906, 363.3421325683594, 526.915283203125, 316.6673278808594, 5249.11328125, 228.5608673095703, 234.29733276367188, 190.63238525390625, 177.05206298828125, 176.17025756835938, 172.70535278320312, 169.75564575195312, 148.2725830078125, 148.30349731445312, 125.97746276855469, 131.7266387939453, 153.21078491210938, 133.25054931640625, 285.29998779296875, 112.53131866455078, 146.4813995361328, 112.25627899169922, 109.49535369873047, 107.19107818603516, 165.4720001220703, 103.05872344970703, 99.42557525634766, 1592.2733154296875, 496.4710388183594, 449.7756042480469, 125.78292846679688, 1277.8057861328125, 4586.09423828125, 191.57290649414062, 2979.14453125, 1443.6280517578125, 223.3538055419922, 393.78350830078125, 5964.33447265625, 1855.06298828125, 1184.966552734375, 9815.2421875, 448.20880126953125, 562.6846923828125, 1780.422607421875, 3429.562744140625, 5610.451171875, 11401.76171875, 2665.602783203125, 2712.267333984375, 2532.57373046875, 4924.38232421875, 1699.1220703125, 1301.630126953125, 2491.34912109375, 5402.865234375, 7711.056640625, 10058.49609375, 4356.5107421875, 161259.6875, 3336.28857421875, 6055.10107421875, 15601.783203125, 44350.30859375, 32845.30859375, 16487.8515625, 23589.296875, 21480.861328125, 19655.841796875, 39530.56640625, 28312.7578125, 70700.4609375, 22323.43359375, 33563.33984375, 14906.78125, 22712.4296875, 27083.771484375], \"loglift\": [30.0, 29.0, 28.0, 27.0, 26.0, 25.0, 24.0, 23.0, 22.0, 21.0, 20.0, 19.0, 18.0, 17.0, 16.0, 15.0, 14.0, 13.0, 12.0, 11.0, 10.0, 9.0, 8.0, 7.0, 6.0, 5.0, 4.0, 3.0, 2.0, 1.0, 1.4771000146865845, 1.4767999649047852, 1.4767999649047852, 1.4766000509262085, 1.4765000343322754, 1.4763000011444092, 1.4763000011444092, 1.4763000011444092, 1.476199984550476, 1.476199984550476, 1.4758000373840332, 1.4754999876022339, 1.4754999876022339, 1.4752999544143677, 1.4752000570297241, 1.475100040435791, 1.4749000072479248, 1.4746999740600586, 1.4744999408721924, 1.4744000434875488, 1.4744000434875488, 1.4742000102996826, 1.4739999771118164, 1.4739999771118164, 1.4738999605178833, 1.4738999605178833, 1.4738999605178833, 1.4737999439239502, 1.4737000465393066, 1.4736000299453735, 1.4726999998092651, 1.472599983215332, 1.4733999967575073, 1.4718999862670898, 1.4718999862670898, 1.4708000421524048, 1.472100019454956, 1.4589999914169312, 1.4687999486923218, 1.4673999547958374, 1.4361000061035156, 1.4428999423980713, 1.4460999965667725, 1.443600058555603, 1.4637000560760498, 1.440000057220459, 1.391700029373169, 1.4098999500274658, 1.3467999696731567, 1.4119000434875488, 1.410099983215332, 1.2652000188827515, 1.3924000263214111, 1.3335000276565552, 1.3169000148773193, 1.298200011253357, 1.410099983215332, 1.3551000356674194, 1.1687999963760376, 1.1377999782562256, 1.3617000579833984, 1.2206000089645386, 1.2336000204086304, 1.3696000576019287, 1.219599962234497, 1.2477999925613403, 1.1884000301361084, 1.2373000383377075, 1.1900999546051025, 1.156499981880188, 0.01510000042617321, 0.7580000162124634, 0.6678000092506409, 0.8848000168800354, 0.7063999772071838, 0.4223000109195709, 0.16750000417232513, -0.16509999334812164, 1.00600004196167, 0.11129999905824661, -0.04919999837875366, 0.30570000410079956, 0.09160000085830688, 0.3986000120639801, 0.09690000116825104, -0.17299999296665192, 0.23010000586509705, -0.024800000712275505, 0.08649999648332596, 0.09600000083446503, 0.2831999957561493, 0.14970000088214874, -0.020999999716877937, 0.05339999869465828, 1.4974000453948975, 1.4973000288009644, 1.4972000122070312, 1.496999979019165, 1.496999979019165, 1.496999979019165, 1.4966000318527222, 1.4962999820709229, 1.4961999654769897, 1.4961999654769897, 1.496000051498413, 1.4958000183105469, 1.4958000183105469, 1.4955999851226807, 1.4955999851226807, 1.4954999685287476, 1.4954999685287476, 1.4951000213623047, 1.4951000213623047, 1.4951000213623047, 1.4948999881744385, 1.4947999715805054, 1.4946000576019287, 1.4945000410079956, 1.4944000244140625, 1.4943000078201294, 1.4941999912261963, 1.4940999746322632, 1.4940999746322632, 1.4940999746322632, 1.4937000274658203, 1.4837000370025635, 1.492400050163269, 1.4917000532150269, 1.4844000339508057, 1.4890999794006348, 1.4930000305175781, 1.4890999794006348, 1.493899941444397, 1.4730000495910645, 1.4670000076293945, 1.455199956893921, 1.4385000467300415, 1.468999981880188, 1.4543999433517456, 1.4668999910354614, 1.4240000247955322, 1.4383000135421753, 1.465499997138977, 1.4472999572753906, 1.2717000246047974, 1.2870999574661255, 1.3904999494552612, 1.285599946975708, 1.180899977684021, 1.1394000053405762, 1.2069000005722046, 0.9994999766349792, 1.2670999765396118, 1.3043999671936035, 1.2105000019073486, 1.2388999462127686, 0.9648000001907349, 0.9898999929428101, 0.8759999871253967, 0.06419999897480011, 1.0398000478744507, 0.12690000236034393, 0.9764000177383423, 0.42980000376701355, 0.6021000146865845, 0.4668000042438507, 0.4343999922275543, 0.5879999995231628, 0.640500009059906, 0.1808999925851822, 0.0674000009894371, -0.09070000052452087, 0.0908999964594841, -0.07209999859333038, 0.5458999872207642, 0.12189999967813492, -0.4715999960899353, 0.2524000108242035, 0.13019999861717224, 0.22599999606609344, 1.7180999517440796, 1.7180999517440796, 1.7175999879837036, 1.7175999879837036, 1.7173000574111938, 1.7173000574111938, 1.7166999578475952, 1.7166999578475952, 1.7166999578475952, 1.716599941253662, 1.7160999774932861, 1.7158000469207764, 1.715399980545044, 1.715399980545044, 1.715399980545044, 1.7151999473571777, 1.7151000499725342, 1.7151000499725342, 1.7145999670028687, 1.7145999670028687, 1.7145999670028687, 1.7144999504089355, 1.7143000364303589, 1.7143000364303589, 1.7141000032424927, 1.7141000032424927, 1.7138999700546265, 1.7138999700546265, 1.7137999534606934, 1.7132999897003174, 1.7028000354766846, 1.7102999687194824, 1.6952999830245972, 1.694000005722046, 1.7031999826431274, 1.7085000276565552, 1.6897000074386597, 1.7081999778747559, 1.6765999794006348, 1.6887999773025513, 1.7089999914169312, 1.6196000576019287, 1.6690000295639038, 1.6792999505996704, 1.7062000036239624, 1.636299967765808, 1.657099962234497, 1.6735999584197998, 1.6309000253677368, 1.561900019645691, 1.5332000255584717, 1.555400013923645, 1.651900053024292, 1.5595999956130981, 1.5506999492645264, 1.6061999797821045, 1.4160000085830688, 1.516800045967102, 1.6017999649047852, 1.513700008392334, 1.4077999591827393, 1.413599967956543, 1.3361999988555908, 0.11100000143051147, 0.6757000088691711, 0.8141000270843506, 0.44589999318122864, 1.3746999502182007, 0.7450000047683716, 0.5598999857902527, 0.9488000273704529, 0.8373000025749207, 0.8586999773979187, 0.579800009727478, 0.24310000240802765, -0.23309999704360962, 0.39590001106262207, 0.7468000054359436, 0.4390999972820282, -0.011800000444054604, 0.05570000037550926, -0.1623000055551529, 0.3433000147342682, 0.07169999927282333, 0.19519999623298645, 0.17440000176429749, 0.21310000121593475, 1.863700032234192, 1.863700032234192, 1.8633999824523926, 1.8632999658584595, 1.8632999658584595, 1.8631999492645264, 1.8631000518798828, 1.8626999855041504, 1.8626999855041504, 1.8626999855041504, 1.8626999855041504, 1.8624999523162842, 1.8624999523162842, 1.8624000549316406, 1.8622000217437744, 1.8621000051498413, 1.861899971961975, 1.861799955368042, 1.861799955368042, 1.8617000579833984, 1.8616000413894653, 1.8616000413894653, 1.8616000413894653, 1.8615000247955322, 1.861299991607666, 1.8610999584197998, 1.8609000444412231, 1.86080002784729, 1.860700011253357, 1.860700011253357, 1.8596999645233154, 1.8596999645233154, 1.8499000072479248, 1.8271000385284424, 1.8453999757766724, 1.7922999858856201, 1.8310999870300293, 1.79830002784729, 1.7819000482559204, 1.8214000463485718, 1.7171000242233276, 1.704200029373169, 1.7793999910354614, 1.6504000425338745, 1.7717000246047974, 1.6081000566482544, 1.5259000062942505, 1.680400013923645, 1.7513999938964844, 0.892300009727478, 1.291100025177002, 1.0561000108718872, 1.3783999681472778, 1.2992000579833984, 0.9077000021934509, 0.6480000019073486, 0.8913999795913696, -0.51910001039505, 0.11999999731779099, -0.13809999823570251, 0.35850000381469727, 0.039500001817941666, 0.34549999237060547, 0.34769999980926514, 0.34769999980926514, 0.31459999084472656, -0.0778999999165535, 0.35280001163482666, 0.10760000348091125, -0.24250000715255737, -0.13019999861717224, -0.10109999775886536, 1.978700041770935, 1.9782999753952026, 1.9780000448226929, 1.9779000282287598, 1.9779000282287598, 1.9773000478744507, 1.976699948310852, 1.9764000177383423, 1.9763000011444092, 1.9758000373840332, 1.9754999876022339, 1.9753999710083008, 1.9752999544143677, 1.9752000570297241, 1.975000023841858, 1.9749000072479248, 1.9746999740600586, 1.9744000434875488, 1.9740999937057495, 1.9740999937057495, 1.9739999771118164, 1.9736000299453735, 1.9732999801635742, 1.9729000329971313, 1.972599983215332, 1.972499966621399, 1.9723999500274658, 1.9723000526428223, 1.9723000526428223, 1.9722000360488892, 1.9333000183105469, 1.969099998474121, 1.9444999694824219, 1.9673000574111938, 1.9620000123977661, 1.9697999954223633, 1.9342999458312988, 1.9390000104904175, 1.9565999507904053, 1.8203999996185303, 1.8482999801635742, 1.8950999975204468, 1.916700005531311, 1.9005000591278076, 1.7410999536514282, 1.8492000102996826, 1.8695000410079956, 1.9212000370025635, 1.7242000102996826, 1.7276999950408936, 1.8128000497817993, 1.6749000549316406, 1.583299994468689, 1.8287999629974365, 1.5480999946594238, 1.3954999446868896, 1.5211000442504883, 1.5748000144958496, 1.1919000148773193, 1.3169000148773193, 1.2611000537872314, 1.4950000047683716, 1.0845999717712402, 0.5467000007629395, 0.16830000281333923, 1.1806000471115112, 1.2584999799728394, 0.7394999861717224, 0.6000999808311462, 1.1849000453948975, 0.6953999996185303, 0.7986000180244446, 0.6725000143051147, 0.8151000142097473, 0.0957999974489212, 0.17409999668598175, 0.44519999623298645, 0.04170000180602074, -0.37770000100135803, -0.07760000228881836, -0.2232999950647354, 2.5820000171661377, 2.5820000171661377, 2.5808000564575195, 2.5797998905181885, 2.5797998905181885, 2.5794999599456787, 2.579400062561035, 2.5789999961853027, 2.578399896621704, 2.5780999660491943, 2.577399969100952, 2.5773000717163086, 2.5773000717163086, 2.5771000385284424, 2.576900005340576, 2.575500011444092, 2.5754001140594482, 2.5754001140594482, 2.5752999782562256, 2.575200080871582, 2.5750999450683594, 2.574899911880493, 2.5745999813079834, 2.57450008392334, 2.574399948120117, 2.574399948120117, 2.574199914932251, 2.573899984359741, 2.573899984359741, 2.573499917984009, 2.561000108718872, 2.567199945449829, 2.5631000995635986, 2.572700023651123, 2.522599935531616, 2.467600107192993, 2.5583999156951904, 2.4361000061035156, 2.448199987411499, 2.541100025177002, 2.486599922180176, 2.224299907684326, 2.261699914932251, 2.3078999519348145, 1.9569000005722046, 2.4103000164031982, 2.3612000942230225, 2.12719988822937, 1.982800006866455, 1.873900055885315, 1.7065999507904053, 2.02020001411438, 1.9455000162124634, 1.9595999717712402, 1.7853000164031982, 2.0578999519348145, 2.1245999336242676, 1.8762999773025513, 1.5740000009536743, 1.4354000091552734, 1.320099949836731, 1.607200026512146, -0.025299999862909317, 1.6806999444961548, 1.3524999618530273, 0.8478999733924866, 0.21299999952316284, 0.24220000207424164, 0.608299970626831, 0.3605000078678131, 0.3571999967098236, 0.41190001368522644, -0.2289000004529953, 0.03759999945759773, -0.7202000021934509, 0.18150000274181366, -0.17640000581741333, 0.5033000111579895, 0.11389999836683273, -0.07720000296831131], \"logprob\": [30.0, 29.0, 28.0, 27.0, 26.0, 25.0, 24.0, 23.0, 22.0, 21.0, 20.0, 19.0, 18.0, 17.0, 16.0, 15.0, 14.0, 13.0, 12.0, 11.0, 10.0, 9.0, 8.0, 7.0, 6.0, 5.0, 4.0, 3.0, 2.0, 1.0, -6.356299877166748, -7.051300048828125, -7.522799968719482, -7.589200019836426, -7.704899787902832, -7.7164998054504395, -7.875199794769287, -7.893599987030029, -7.829800128936768, -7.88640022277832, -7.826499938964844, -8.266300201416016, -8.280400276184082, -8.332900047302246, -8.382800102233887, -8.408499717712402, -8.256999969482422, -8.553400039672852, -7.384900093078613, -8.59630012512207, -8.645700454711914, -8.600700378417969, -8.183500289916992, -8.77280044555664, -8.770500183105469, -8.784600257873535, -8.740900039672852, -8.732999801635742, -8.79520034790039, -8.71969985961914, -5.930799961090088, -6.739500045776367, -7.102499961853027, -7.340700149536133, -7.449100017547607, -7.340000152587891, -7.647299766540527, -6.383999824523926, -7.389699935913086, -7.791600227355957, -4.7245001792907715, -5.541100025177002, -5.915200233459473, -6.228300094604492, -7.496600151062012, -6.388800144195557, -5.153900146484375, -5.808199882507324, -4.7631001472473145, -6.413700103759766, -6.59250020980835, -4.040900230407715, -6.410699844360352, -5.632400035858154, -5.613399982452393, -5.641499996185303, -6.968900203704834, -6.515699863433838, -4.923699855804443, -4.719299793243408, -6.609799861907959, -5.700300216674805, -5.8221001625061035, -6.707300186157227, -5.815999984741211, -6.0706000328063965, -5.80679988861084, -6.127699851989746, -5.946000099182129, -5.915900230407715, -3.593600034713745, -5.19290018081665, -5.041500091552734, -5.497000217437744, -5.468999862670898, -5.140100002288818, -4.8471999168396, -4.598400115966797, -5.8993000984191895, -5.088699817657471, -4.94890022277832, -5.355299949645996, -5.327400207519531, -5.54580020904541, -5.434100151062012, -5.35129976272583, -5.496300220489502, -5.417699813842773, -5.482399940490723, -5.528600215911865, -5.570899963378906, -5.571499824523926, -5.6072001457214355, -5.612400054931641, -5.207799911499023, -6.530600070953369, -6.68149995803833, -6.98829984664917, -7.09089994430542, -6.524400234222412, -6.716899871826172, -7.748199939727783, -7.763299942016602, -7.113699913024902, -7.950399875640869, -8.011099815368652, -7.81279993057251, -8.111200332641602, -7.842899799346924, -8.163800239562988, -8.175800323486328, -7.765200138092041, -8.338399887084961, -8.361100196838379, -8.413900375366211, -8.455300331115723, -8.525300025939941, -7.959799766540527, -8.186800003051758, -7.849899768829346, -8.40779972076416, -8.662599563598633, -7.791800022125244, -8.673800468444824, -4.131100177764893, -4.431099891662598, -7.1031999588012695, -7.05210018157959, -6.660299777984619, -7.171299934387207, -7.65339994430542, -7.307799816131592, -8.131999969482422, -6.4492998123168945, -6.190400123596191, -6.095799922943115, -5.655799865722656, -6.811500072479248, -6.406400203704834, -6.888599872589111, -5.556300163269043, -6.185100078582764, -7.080999851226807, -7.0289998054504395, -4.383299827575684, -4.887199878692627, -6.292399883270264, -5.351600170135498, -4.696000099182129, -5.4959001541137695, -5.839099884033203, -4.9903998374938965, -6.1778998374938965, -6.381199836730957, -6.081900119781494, -6.182499885559082, -5.353099822998047, -5.432000160217285, -5.252600193023682, -3.544600009918213, -5.776700019836426, -4.306399822235107, -5.775300025939941, -4.989099979400635, -5.357100009918213, -5.303100109100342, -5.35890007019043, -5.518499851226807, -5.617499828338623, -5.211900234222412, -5.132599830627441, -5.105400085449219, -5.281400203704834, -5.250500202178955, -5.627500057220459, -5.498300075531006, -5.371200084686279, -5.574900150299072, -5.568900108337402, -5.617300033569336, -5.80079984664917, -5.0671000480651855, -6.848299980163574, -6.815899848937988, -7.164400100708008, -6.58489990234375, -7.410799980163574, -7.651599884033203, -7.156799793243408, -7.713500022888184, -7.944799900054932, -7.539599895477295, -8.158599853515625, -7.23799991607666, -8.234100341796875, -8.295000076293945, -8.146900177001953, -8.259599685668945, -7.110799789428711, -8.246000289916992, -8.319299697875977, -8.392499923706055, -8.501999855041504, -8.550200462341309, -8.581999778747559, -8.284000396728516, -8.550999641418457, -8.627300262451172, -8.658300399780273, -8.680399894714355, -4.982999801635742, -6.846700191497803, -5.397900104522705, -5.7444000244140625, -6.727200031280518, -7.267600059509277, -5.713799953460693, -7.702400207519531, -4.868899822235107, -6.73330020904541, -7.882699966430664, -3.8403000831604004, -6.410999774932861, -6.877999782562256, -7.853700160980225, -5.9355998039245605, -6.5883002281188965, -7.033199787139893, -6.093400001525879, -4.880899906158447, -4.431099891662598, -5.12529993057251, -6.663599967956543, -5.561600208282471, -5.557700157165527, -6.488999843597412, -5.129799842834473, -6.17110013961792, -6.609099864959717, -6.250699996948242, -5.803199768066406, -6.012199878692627, -5.946400165557861, -3.49780011177063, -4.672800064086914, -5.075099945068359, -4.453700065612793, -6.1828999519348145, -5.199399948120117, -4.971099853515625, -5.541399955749512, -5.498199939727783, -5.524600028991699, -5.273499965667725, -4.935299873352051, -4.666500091552734, -5.224299907684326, -5.508600234985352, -5.327000141143799, -5.211699962615967, -5.250500202178955, -5.177000045776367, -5.370100021362305, -5.30049991607666, -5.3684000968933105, -5.394400119781494, -5.411499977111816, -5.287600040435791, -4.209700107574463, -5.23360013961792, -4.618299961090088, -6.405399799346924, -6.660900115966797, -6.383900165557861, -7.136000156402588, -3.6059000492095947, -5.025599956512451, -5.920000076293945, -7.310800075531006, -7.33650016784668, -7.383200168609619, -7.550000190734863, -7.56689977645874, -7.532100200653076, -7.739200115203857, -7.730400085449219, -7.67579984664917, -7.781799793243408, -6.311100006103516, -7.842400074005127, -7.865600109100342, -7.935699939727783, -5.987199783325195, -8.030900001525879, -8.12660026550293, -8.147899627685547, -8.166399955749512, -6.332799911499023, -6.482900142669678, -5.565499782562256, -5.234899997711182, -6.639999866485596, -4.817599773406982, -6.496399879455566, -5.979700088500977, -6.073200225830078, -6.9319000244140625, -5.282700061798096, -5.432300090789795, -6.433199882507324, -5.282700061798096, -6.714300155639648, -5.660900115966797, -5.3343000411987305, -6.222400188446045, -6.675099849700928, -4.670100212097168, -5.8531999588012695, -5.504199981689453, -6.014500141143799, -5.920899868011475, -5.472899913787842, -5.206099987030029, -5.513999938964844, -4.127799987792969, -4.779600143432617, -4.571400165557861, -5.205100059509277, -4.975200176239014, -5.240699768066406, -5.276899814605713, -5.317999839782715, -5.394700050354004, -5.25629997253418, -5.46619987487793, -5.461299896240234, -5.442500114440918, -5.478700160980225, -5.493899822235107, -4.731299877166748, -6.310500144958496, -6.275199890136719, -6.787199974060059, -6.788099765777588, -7.258999824523926, -7.514800071716309, -7.730199813842773, -7.811399936676025, -7.99370002746582, -8.070500373840332, -8.138799667358398, -7.74399995803833, -8.179499626159668, -8.19909954071045, -8.258399963378906, -8.300299644470215, -8.38659954071045, -8.430899620056152, -8.447600364685059, -8.451199531555176, -8.531200408935547, -8.586199760437012, -8.667499542236328, -8.337900161743164, -8.742899894714355, -8.73390007019043, -8.710399627685547, -8.596500396728516, -8.788800239562988, -3.558300018310547, -7.552000045776367, -5.210299968719482, -7.741499900817871, -7.236800193786621, -8.336899757385254, -5.13100004196167, -5.403800010681152, -7.749599933624268, -4.018599987030029, -5.104300022125244, -6.292300224304199, -7.007699966430664, -6.81279993057251, -4.928199768066406, -6.422299861907959, -6.805600166320801, -7.492499828338623, -5.694699764251709, -5.820099830627441, -6.631999969482422, -5.631199836730957, -4.967199802398682, -6.826399803161621, -5.349899768829346, -4.7743000984191895, -5.484899997711182, -5.802999973297119, -4.578100204467773, -5.2204999923706055, -5.202199935913086, -5.879199981689453, -4.874499797821045, -3.886699914932251, -3.440500020980835, -5.463500022888184, -5.652500152587891, -4.88070011138916, -4.77209997177124, -5.564499855041504, -5.097799777984619, -5.261199951171875, -5.184599876403809, -5.313499927520752, -4.918900012969971, -5.004199981689453, -5.264200210571289, -5.351200103759766, -5.277299880981445, -5.426000118255615, -5.423299789428711, -4.000800132751465, -3.7321999073028564, -6.5441999435424805, -7.128300189971924, -7.1244001388549805, -6.752999782562256, -7.26230001449585, -4.454800128936768, -7.589399814605713, -7.564899921417236, -7.7718000411987305, -7.845799922943115, -7.850800037384033, -7.8709001541137695, -7.888199806213379, -8.024900436401367, -8.024800300598145, -8.187999725341797, -8.143500328063965, -7.992499828338623, -8.132200241088867, -7.371099948883057, -8.3016996383667, -8.038200378417969, -8.304300308227539, -8.329299926757812, -8.350700378417969, -7.916800022125244, -8.390299797058105, -8.426600456237793, -5.665599822998047, -6.82480001449585, -6.927700042724609, -8.19219970703125, -5.923999786376953, -4.701099872589111, -7.785799980163574, -5.164000034332275, -5.876399993896484, -7.649700164794922, -7.137199878692627, -4.681600093841553, -5.812099933624268, -6.214200019836426, -4.450900077819824, -7.084000110626221, -6.905600070953369, -5.98769998550415, -5.476600170135498, -5.093299865722656, -4.551400184631348, -5.691199779510498, -5.748499870300293, -5.8028998374938965, -5.312300205230713, -6.103799819946289, -6.303599834442139, -5.902699947357178, -5.430799961090088, -5.213799953460693, -5.063300132751465, -5.6128997802734375, -3.6340999603271484, -5.80620002746582, -5.538300037384033, -5.096499919891357, -4.686699867248535, -4.957799911499023, -5.280900001525879, -5.170499801635742, -5.267399787902832, -5.301499843597412, -5.243599891662598, -5.3109002113342285, -5.153500080108643, -5.404600143432617, -5.354800224304199, -5.486700057983398, -5.454999923706055, -5.470099925994873]}, \"token.table\": {\"Topic\": [4, 1, 2, 3, 4, 5, 6, 1, 1, 2, 3, 4, 5, 6, 6, 1, 2, 3, 4, 5, 6, 2, 5, 2, 4, 5, 1, 2, 3, 4, 5, 6, 4, 5, 1, 5, 1, 6, 5, 1, 2, 3, 4, 5, 6, 1, 2, 4, 5, 6, 4, 1, 3, 1, 2, 3, 4, 5, 2, 3, 6, 1, 5, 4, 1, 2, 3, 4, 5, 6, 1, 5, 3, 2, 1, 2, 3, 4, 5, 6, 2, 5, 1, 2, 3, 4, 5, 6, 1, 1, 1, 1, 2, 5, 6, 4, 3, 1, 2, 3, 4, 5, 6, 1, 2, 3, 4, 5, 6, 2, 3, 4, 6, 3, 4, 1, 2, 3, 4, 5, 6, 1, 2, 3, 4, 5, 6, 1, 2, 3, 4, 5, 6, 1, 2, 3, 1, 2, 4, 5, 1, 2, 3, 1, 2, 3, 6, 1, 2, 3, 1, 2, 3, 1, 2, 3, 4, 5, 1, 2, 3, 4, 5, 6, 1, 2, 3, 4, 5, 6, 1, 2, 3, 4, 5, 6, 1, 2, 3, 4, 5, 1, 1, 5, 3, 4, 1, 2, 3, 4, 5, 6, 2, 3, 2, 3, 4, 6, 1, 5, 1, 5, 1, 2, 3, 4, 6, 2, 3, 6, 1, 2, 3, 4, 5, 6, 1, 2, 3, 4, 5, 6, 1, 2, 3, 4, 5, 6, 1, 2, 3, 4, 5, 6, 2, 5, 6, 2, 5, 5, 1, 2, 3, 4, 5, 6, 6, 5, 1, 6, 2, 2, 6, 1, 2, 4, 5, 1, 2, 5, 1, 2, 2, 3, 4, 5, 6, 1, 2, 3, 4, 5, 6, 5, 3, 1, 2, 3, 4, 5, 1, 2, 4, 5, 5, 1, 2, 3, 4, 5, 6, 1, 2, 3, 4, 5, 6, 6, 1, 2, 4, 5, 6, 2, 4, 5, 6, 1, 2, 3, 4, 5, 3, 4, 3, 4, 3, 4, 6, 3, 4, 1, 3, 4, 6, 5, 1, 2, 3, 4, 5, 6, 1, 2, 3, 4, 5, 6, 1, 2, 3, 6, 1, 2, 3, 4, 5, 6, 1, 2, 3, 4, 5, 6, 3, 1, 2, 3, 4, 5, 6, 1, 2, 3, 4, 5, 6, 1, 2, 4, 5, 1, 2, 3, 4, 6, 1, 2, 3, 4, 5, 5, 2, 1, 2, 3, 4, 5, 6, 1, 3, 1, 1, 4, 5, 1, 1, 3, 1, 3, 4, 2, 3, 4, 6, 1, 2, 3, 4, 6, 1, 4, 5, 1, 3, 4, 5, 1, 2, 4, 5, 6, 1, 3, 1, 2, 4, 6, 1, 2, 3, 4, 5, 6, 1, 2, 4, 5, 1, 2, 3, 4, 5, 6, 1, 1, 3, 6, 3, 2, 5, 1, 2, 3, 4, 5, 6, 1, 2, 3, 4, 5, 6, 5, 1, 2, 3, 4, 5, 6, 1, 2, 5, 1, 2, 4, 5, 6, 4, 3, 4, 4, 5, 6, 1, 2, 3, 4, 5, 6, 4, 1, 2, 3, 4, 5, 6, 3, 5, 6, 1, 2, 3, 4, 5, 6, 1, 2, 3, 4, 5, 6, 1, 5, 1, 2, 3, 4, 5, 6, 1, 2, 3, 4, 1, 3, 4, 6, 1, 2, 3, 4, 5, 6, 1, 2, 3, 4, 5, 6, 2, 5, 1, 2, 4, 5, 6, 2, 1, 2, 5, 6, 1, 2, 3, 4, 5, 6, 2, 3, 4, 5, 1, 5, 6, 1, 5, 3, 4, 1, 2, 3, 5, 6, 2, 6, 6, 6, 2, 3, 6, 2, 4, 2, 5, 3, 6, 1, 2, 3, 4, 5, 6, 1, 2, 5, 6, 3, 1, 2, 6, 1, 2, 3, 4, 5, 6, 3, 6, 1, 3, 1, 2, 3, 4, 5, 6, 5, 4, 5, 1, 2, 3, 4, 5, 6, 2, 1, 4, 5, 6, 1, 2, 3, 4, 5, 6, 1, 4, 6, 3, 1, 2, 4, 5, 6, 2, 3, 4, 5, 6, 1, 2, 4, 5, 6, 1, 3, 1, 2, 3, 4, 5, 6, 2, 3, 4, 6, 2, 1, 2, 3, 4, 5, 6, 3, 1, 2, 3, 4, 5, 6, 1, 2, 1, 2, 5, 2, 5, 5, 1, 1, 2, 3, 4, 1, 2, 4, 5, 6, 1, 3, 4, 6, 2, 6, 1, 3, 4, 6, 2, 4, 6, 1, 2, 3, 4, 5, 6, 1, 2, 3, 4, 5, 6, 5, 1, 2, 4, 5, 6, 3, 1, 2, 3, 4, 5, 6, 6, 1, 2, 3, 4, 5, 6, 1, 2, 3, 4, 5, 1, 2, 3, 4, 5, 6, 1, 2, 3, 4, 5, 4, 6, 1, 2, 3, 5, 6, 1, 2, 3, 4, 5, 6, 1, 2, 5, 5, 1, 2, 5, 1, 2, 3, 4, 5, 6, 1, 2, 3, 4, 5, 6, 1, 2, 3, 4, 5, 6, 2, 6, 1, 2, 3, 4, 5, 6, 1, 2, 6, 3, 2, 3, 4, 5, 2, 5, 6, 1, 2, 4, 5, 6, 2, 3, 4, 6, 1, 2, 3, 4, 5, 6, 1, 3, 4, 5, 3, 2, 2, 3, 6, 1, 2, 3, 1, 2, 3, 4, 5, 6, 1, 2, 6, 1, 5, 1, 2, 3, 4, 5, 6, 1, 2, 3, 4, 5, 6, 1, 2, 4, 5, 1, 2, 3, 4, 5, 6, 1, 2, 3, 4, 2, 6, 4, 1, 2, 3, 4, 5, 6, 3, 4, 6, 1, 2, 3, 4, 5, 6, 5, 6, 1, 2, 3, 4, 5, 6, 1, 2, 3, 4, 5, 6, 1, 2, 5, 1, 2, 3, 4, 5, 6, 1, 2, 3, 4, 5, 6, 1, 2, 3, 4, 5, 6, 2, 3, 4, 6, 2, 3, 1, 2, 3, 4, 5, 6, 1, 2, 3, 4, 5, 6, 2, 3, 1, 3, 4, 5, 2, 5, 5, 2, 6, 6, 2, 3, 1, 2, 3, 4, 5, 6, 1, 2, 3, 4, 5, 6, 1, 2, 3, 4, 5, 2, 3, 2, 1, 2, 3, 4, 5, 6, 6, 6, 5, 2, 1, 2, 3, 4, 5, 6, 2, 4, 2, 5, 1, 1, 2, 3, 4, 6, 1, 2, 3, 4, 5, 6, 1, 2, 3, 4, 5, 6, 1, 4, 6, 2, 4, 1, 3, 6, 1, 2, 3, 4, 5, 6, 1, 2, 3, 4, 5, 6, 1, 3, 4, 6, 1, 1, 2, 3, 1, 2, 3, 3, 1, 3, 1, 1, 4, 5, 1, 3, 4, 6, 5, 2, 3, 4, 6, 1, 2, 3, 4, 5, 6, 2, 6, 3, 4, 3, 4, 1, 2, 4, 5, 6, 2, 4, 1, 2, 3, 4, 5, 1, 2, 3, 4, 5, 6, 5, 3, 4, 5, 1, 2, 3, 5, 6, 5, 1, 4, 5, 2, 5, 1, 2, 3, 4, 5, 6, 1, 3, 4, 5, 3, 1, 2, 3, 4, 5, 6, 3, 1, 2, 3, 4, 5, 6, 2, 3, 6, 4, 4, 4, 1, 2, 3, 4, 6, 2, 3, 5, 1, 3, 4, 5, 6, 1, 2, 3, 4, 5, 6, 6, 1, 2, 3, 4, 5, 6, 1, 2, 3, 4, 5, 6, 6, 1, 2, 3, 4, 5, 6, 6, 2, 1, 2, 3, 4, 5, 6, 6, 3, 6, 3, 1, 2, 3, 4, 5, 6, 4, 1, 1, 2, 3, 4, 5, 6, 2, 6, 5, 6, 2, 1, 2, 4, 5, 4, 5, 1, 3, 1, 2, 4, 5, 1, 2, 3, 4, 5, 6, 3, 6, 1, 2, 3, 4, 5, 6, 5, 6, 1, 2, 3, 4, 5, 6, 1, 1, 3, 6, 1, 2, 3, 4, 5, 6, 1, 1, 2, 3, 4, 5, 6, 1, 2, 3, 4, 5, 6, 1, 1, 1, 2, 3, 4, 6, 1, 2, 3, 4, 5, 6, 6, 1, 2, 3, 4, 5, 1, 2, 3, 4, 5, 6, 1, 2, 3, 4, 5, 6, 5, 1, 2, 5, 1, 2, 3, 4, 6, 1, 2, 3, 4, 5, 6, 1, 2, 5, 1, 3, 4, 6, 1, 2, 5, 6, 1, 2, 4, 5, 6, 1, 2, 3, 4, 5, 6, 1, 2, 3, 4, 5, 6, 1, 2, 5, 4, 1, 2, 3, 4, 5, 6, 5, 2, 5, 6, 4, 1, 2, 3, 4, 5, 6, 3, 1, 3, 4], \"Freq\": [0.9958741664886475, 0.017742615193128586, 0.22231143712997437, 0.06509542465209961, 0.018917622044682503, 0.673279345035553, 0.002702517667785287, 0.9974653720855713, 0.01548519916832447, 0.07263296097517014, 0.3296135365962982, 0.024333884939551353, 0.02838953211903572, 0.5290776491165161, 0.9959158897399902, 0.24871844053268433, 0.18765054643154144, 0.2135394662618637, 0.1726807802915573, 0.09268052875995636, 0.08471132814884186, 0.9962664246559143, 0.0018113935366272926, 0.0022716224193573, 0.8323224186897278, 0.16491977870464325, 0.1980551928281784, 0.25472837686538696, 0.15632767975330353, 0.14649765193462372, 0.17929787933826447, 0.06509891897439957, 0.005046669393777847, 0.9941939115524292, 0.0389268696308136, 0.9609746336936951, 0.998589038848877, 0.9940578937530518, 0.9950959086418152, 0.04813404008746147, 0.09480206668376923, 0.6824283003807068, 0.023700516670942307, 0.13487304747104645, 0.016126124188303947, 0.08184023201465607, 0.0012812560889869928, 0.7131791114807129, 0.2033993899822235, 0.0001601570111233741, 0.9991149306297302, 0.9985336065292358, 0.9995298981666565, 0.020616350695490837, 0.9696793556213379, 0.001066362950950861, 0.008175449445843697, 0.0003554543072823435, 0.00014858052600175142, 0.9996498227119446, 0.9922409653663635, 0.005027534440159798, 0.9904242157936096, 0.9997890591621399, 0.06804755330085754, 0.7976632118225098, 0.08474751561880112, 0.031960275024175644, 4.798840018338524e-05, 0.017563754692673683, 0.9954805374145508, 0.0026265978813171387, 0.9992075562477112, 0.9960276484489441, 0.3027743697166443, 0.11414066702127457, 0.13135839998722076, 0.2964494824409485, 0.09112513065338135, 0.06418582051992416, 0.997613251209259, 0.0017656871350482106, 0.0009181660134345293, 0.014461114071309566, 0.00022954150335863233, 0.5685743093490601, 0.038562972098588943, 0.3771366775035858, 0.9986262917518616, 0.9966490268707275, 0.9943976402282715, 0.008679733611643314, 0.986596405506134, 0.0034718934912234545, 0.0005786489346064627, 0.9996262788772583, 0.9958468079566956, 0.1761000007390976, 0.28783711791038513, 0.18174386024475098, 0.14446014165878296, 0.17313554883003235, 0.03677063807845116, 0.21483606100082397, 0.13509510457515717, 0.07599905878305435, 0.09832136332988739, 0.4500589668750763, 0.02567710168659687, 0.027489405125379562, 0.9705287218093872, 0.0007635945803485811, 0.0007635945803485811, 0.0035263141617178917, 0.9958310723304749, 0.3094167113304138, 0.010493882931768894, 0.040345411747694016, 0.10239176452159882, 0.002343294210731983, 0.5351880192756653, 0.20420709252357483, 0.28032854199409485, 0.15763048827648163, 0.16203325986862183, 0.17304016649723053, 0.022708985954523087, 0.005175942555069923, 0.0026083490811288357, 0.0029751481488347054, 0.033664003014564514, 0.9554300904273987, 0.00012226635590195656, 0.8083662986755371, 0.0019636976066976786, 0.18963225185871124, 0.005317199509590864, 0.008507519029080868, 0.9581593871116638, 0.026585998013615608, 0.8512401580810547, 0.004294854588806629, 0.14430710673332214, 0.006182736251503229, 0.034005049616098404, 0.8903140425682068, 0.06924664229154587, 0.007858633995056152, 0.9694696664810181, 0.022147059440612793, 0.9923394918441772, 0.003379135625436902, 0.0022527570836246014, 0.006782600190490484, 0.986028254032135, 0.006720374338328838, 0.00012445138418115675, 0.00031112844590097666, 0.04262347146868706, 0.04782145470380783, 0.8530932068824768, 0.045534342527389526, 0.003326709847897291, 0.007485097274184227, 0.0008291613194160163, 0.04706477373838425, 0.9059574604034424, 0.00529083888977766, 0.006198967806994915, 0.034666839987039566, 0.00048397990758530796, 0.8101016879081726, 0.11768777668476105, 0.03557252138853073, 0.035895176231861115, 0.00032265327172353864, 0.00019287032773718238, 0.7475653886795044, 0.2507314383983612, 0.00038574065547436476, 0.0013500923523679376, 0.9970088601112366, 0.9969787001609802, 0.9987868666648865, 0.9887636303901672, 0.00953025184571743, 0.1710682511329651, 0.1950778216123581, 0.00037514965515583754, 0.04276706278324127, 0.020633231848478317, 0.5702275037765503, 0.9987837672233582, 0.9939923286437988, 0.000874118588399142, 0.9615304470062256, 0.01573413424193859, 0.02097884565591812, 0.008294769562780857, 0.9898424744606018, 0.014944508671760559, 0.9830165505409241, 0.00042555361869744956, 0.00042555361869744956, 0.22022399306297302, 0.5638585686683655, 0.2149045765399933, 0.0007699517882429063, 0.9847683310508728, 0.013859132304787636, 0.02139965631067753, 0.6075758337974548, 0.0001341671304544434, 0.04729391261935234, 0.19843317568302155, 0.12504376471042633, 0.018054982647299767, 0.06310591101646423, 0.002076611388474703, 0.03732132166624069, 0.8534872531890869, 0.026015324518084526, 0.00031855268753133714, 0.12391699850559235, 0.0637105405330658, 0.02866974286735058, 0.7779057025909424, 0.005096843000501394, 0.08718312531709671, 0.20789822936058044, 0.03498988226056099, 0.09243160486221313, 0.028575072064995766, 0.5490495562553406, 0.11221726983785629, 0.01246858574450016, 0.8748791217803955, 0.9914202690124512, 0.007753042038530111, 0.9897844791412354, 0.0016367684584110975, 0.0054948655888438225, 0.9591463208198547, 0.007131633814424276, 0.0025720647536218166, 0.024200791493058205, 0.9955486059188843, 0.9929401874542236, 0.9978621006011963, 0.9957196712493896, 0.9973680973052979, 0.015659835189580917, 0.9761296510696411, 0.013398503884673119, 0.9423614740371704, 0.0003435513935983181, 0.04397457838058472, 0.9951246380805969, 0.9963020086288452, 0.997902512550354, 0.00214360817335546, 0.9967778325080872, 0.06091437488794327, 0.001078130560927093, 0.14716482162475586, 0.0646878331899643, 0.7261208891868591, 0.04796847701072693, 0.35666796565055847, 0.06638062000274658, 0.04559966176748276, 0.45524290204048157, 0.02815658040344715, 0.9928629994392395, 0.9959180951118469, 0.7251535058021545, 0.17901113629341125, 0.006732719484716654, 0.02990119531750679, 0.059010304510593414, 0.03876690939068794, 0.9574119448661804, 0.002613499527797103, 0.0008711664704605937, 0.9980504512786865, 0.21268177032470703, 0.1792726069688797, 0.2782130837440491, 0.08253082633018494, 0.166455939412117, 0.08086840808391571, 0.22335273027420044, 0.1891734004020691, 0.18509697914123535, 0.21905232965946198, 0.09268287569284439, 0.09066705405712128, 0.9912106394767761, 0.0001862452190835029, 0.9959463477134705, 0.0037249044980853796, 9.312260954175144e-05, 4.656130477087572e-05, 0.7719940543174744, 0.14008182287216187, 0.050811246037483215, 0.03677498921751976, 0.7831975817680359, 0.17311353981494904, 0.0001947283890331164, 0.03719312325119972, 0.006231308449059725, 0.0011530512711033225, 0.9987070560455322, 0.0025811935774981976, 0.9972010850906372, 0.0017852572491392493, 0.9979588389396667, 0.9954760074615479, 0.9980958700180054, 0.9990174174308777, 0.1652790606021881, 0.03021230176091194, 0.001777194207534194, 0.8015146255493164, 0.9990302324295044, 0.287150114774704, 0.2241121381521225, 0.14251841604709625, 0.19380442798137665, 0.09159320592880249, 0.06087314337491989, 0.05690779164433479, 0.793834924697876, 0.01437065377831459, 0.07357774674892426, 0.05978192016482353, 0.0011496522929519415, 0.9812210202217102, 0.00042792019667103887, 0.004279201850295067, 0.014121366664767265, 0.0021805046126246452, 0.06149023398756981, 0.00021805046708323061, 0.02682020701467991, 0.017444036900997162, 0.8918263912200928, 0.24301350116729736, 0.6326016783714294, 0.004906265996396542, 0.0021464915480464697, 0.0881594717502594, 0.029284276068210602, 0.9949321150779724, 0.5525723099708557, 0.09767040610313416, 0.08248385041952133, 0.12873832881450653, 0.05101889371871948, 0.08754603564739227, 0.10021378844976425, 0.043545275926589966, 0.42332372069358826, 0.1427648812532425, 0.007058709394186735, 0.28304430842399597, 0.0617663748562336, 0.9290241003036499, 0.007946550846099854, 0.001264224061742425, 0.062906414270401, 0.026959890499711037, 0.27072224020957947, 0.004493315238505602, 0.6346807479858398, 0.028087466955184937, 0.13173417747020721, 0.814932107925415, 0.024922681972384453, 0.00039559812285006046, 0.9936747550964355, 0.9985572099685669, 0.0012423100415617228, 0.029488516971468925, 0.8309746384620667, 0.10474634915590286, 0.003792314790189266, 0.029750056564807892, 0.9965260028839111, 0.9987704157829285, 0.9965133666992188, 0.0008135357638821006, 0.9819376468658447, 0.01708425022661686, 0.9980766177177429, 0.9990500211715698, 0.00042386510176584125, 0.9937578439712524, 0.0015335769858211279, 0.00460073072463274, 0.0006399340345524251, 0.9407030344009399, 0.04863498732447624, 0.010238944552838802, 0.8905004858970642, 0.012651919387280941, 0.09440278261899948, 0.0004866122908424586, 0.0024330613669008017, 0.0007670315098948777, 0.8935917019844055, 0.10585034638643265, 0.054089196026325226, 0.02261911891400814, 0.026552878320217133, 0.8959137797355652, 0.1271655112504959, 0.40362662076950073, 0.12766095995903015, 0.04904955253005028, 0.2924806773662567, 0.8975617289543152, 0.10219226777553558, 0.00013715495879296213, 0.9995853304862976, 0.00013715495879296213, 0.9966827034950256, 0.26969003677368164, 0.204221710562706, 0.1524895876646042, 0.16131819784641266, 0.15213543176651, 0.06015598028898239, 0.0011108246399089694, 0.9908556342124939, 0.007775772828608751, 0.9967382550239563, 0.26494044065475464, 0.23878994584083557, 0.14100758731365204, 0.17777211964130402, 0.12285606563091278, 0.05460839346051216, 0.9968260526657104, 0.0032540978863835335, 0.9518236517906189, 0.044472672045230865, 0.9927133321762085, 0.9949986338615417, 0.002544753486290574, 0.25495269894599915, 0.2392122447490692, 0.17725515365600586, 0.12166120857000351, 0.11054851114749908, 0.09633034467697144, 0.1808299720287323, 0.030724437907338142, 0.37443095445632935, 0.046827007085084915, 0.002406130777671933, 0.36499151587486267, 0.9910702109336853, 0.05321240425109863, 0.6017651557922363, 0.20737339556217194, 0.07429071515798569, 0.01601538434624672, 0.04742620140314102, 0.9985904693603516, 0.9987149834632874, 0.0009213237790390849, 0.12050449848175049, 0.0003513250849209726, 0.0012296377681195736, 0.8776100277900696, 0.0001756625424604863, 0.9972714781761169, 0.00043872417882084846, 0.9994136691093445, 0.9987051486968994, 0.0008057322702370584, 0.0004028661351185292, 0.006976582109928131, 0.001953443046659231, 0.0002790633006952703, 0.9862096905708313, 0.0005581266013905406, 0.003906886093318462, 0.9963626861572266, 0.04116770997643471, 0.14455479383468628, 0.7391475439071655, 0.03239618241786957, 0.004561195150017738, 0.03812691196799278, 0.9967454671859741, 0.0011430566664785147, 0.0022861133329570293, 0.16113579273223877, 0.12500926852226257, 0.028098413720726967, 0.1478033810853958, 0.45201170444488525, 0.08572883158922195, 0.08572813868522644, 0.01746811531484127, 0.07202238589525223, 0.1523757129907608, 0.6675507426261902, 0.0048373243771493435, 0.9892392158508301, 0.008816748857498169, 0.21559670567512512, 0.22950617969036102, 0.14237411320209503, 0.22068554162979126, 0.09883636236190796, 0.0930124819278717, 0.9654737114906311, 0.029366644099354744, 0.0025378582067787647, 0.0023565825540572405, 0.9941642880439758, 0.005642249248921871, 0.9979704022407532, 0.9978926777839661, 0.03186184540390968, 0.0876905620098114, 0.7373338341712952, 0.05695657059550285, 0.06372369080781937, 0.022557057440280914, 0.01525786705315113, 0.5369536280632019, 0.07143455743789673, 0.02966807410120964, 0.3123239278793335, 0.03444579243659973, 0.9946037530899048, 0.004541569855064154, 0.12608423829078674, 0.11832905560731888, 0.008505682460963726, 0.737993061542511, 0.0090060168877244, 0.9952677488327026, 0.07151979953050613, 0.0010217113886028528, 0.9246488213539124, 0.003065134398639202, 0.0007385411881841719, 0.04093628376722336, 0.8551251888275146, 0.001582588185556233, 0.02489938773214817, 0.0767027735710144, 0.007751887664198875, 0.18156643211841583, 0.8077467083930969, 0.0029284909833222628, 0.9862735867500305, 0.006540275644510984, 0.006540275644510984, 0.9992974996566772, 0.9926530122756958, 0.9950711727142334, 0.9988325238227844, 0.0019050836563110352, 0.0007620334508828819, 0.00019050836272072047, 0.00038101672544144094, 0.9967398047447205, 9.277782373828813e-05, 0.9998666048049927, 0.9944629073143005, 0.9906150698661804, 0.022443948313593864, 0.977221667766571, 0.00020219774160068482, 0.9974183440208435, 0.9988836050033569, 0.006875787395983934, 0.990113377571106, 0.0018978383159264922, 0.9982629418373108, 0.0001754114928189665, 0.42432039976119995, 0.03894134983420372, 0.009296809323132038, 0.11059694737195969, 0.4166022837162018, 0.002539466368034482, 0.00761839933693409, 0.08126292377710342, 0.9091289639472961, 0.9964339733123779, 0.14948390424251556, 0.006693309172987938, 0.8411258459091187, 0.9662094116210938, 0.0036066046450287104, 0.02632821351289749, 0.0010819813469424844, 0.0018033023225143552, 0.0010819813469424844, 0.9990576505661011, 0.0006773272179998457, 0.8771161437034607, 0.12282802164554596, 0.4623272120952606, 0.06468542665243149, 0.29241690039634705, 0.02996041812002659, 0.007429537363350391, 0.14318011701107025, 0.9986875057220459, 0.9995459318161011, 0.00020295349531807005, 0.18233655393123627, 0.13663539290428162, 0.320317804813385, 0.2018224596977234, 0.05149427801370621, 0.10737727582454681, 0.9962005019187927, 0.006377669982612133, 0.12654639780521393, 0.0026853345334529877, 0.8640064001083374, 0.2513004243373871, 0.0967811793088913, 0.3139559328556061, 0.1608780473470688, 0.0686328187584877, 0.10843901336193085, 0.0012994013959541917, 0.9212756156921387, 0.0770978182554245, 0.9979761242866516, 0.0027144558262079954, 0.7504236698150635, 0.000493537459988147, 0.11696837097406387, 0.12930680811405182, 0.49049729108810425, 0.003211111528798938, 0.001605555764399469, 0.011238890700042248, 0.49370840191841125, 0.04375287517905235, 0.8983923196792603, 0.013125861994922161, 0.014219683595001698, 0.030627012252807617, 0.9912090301513672, 0.008269920013844967, 0.12434981018304825, 0.13264717161655426, 0.46321409940719604, 0.1143929734826088, 0.12036707252264023, 0.04502702131867409, 0.0006864205934107304, 0.9355912804603577, 0.015787674114108086, 0.04736302047967911, 0.9993072152137756, 0.22822731733322144, 0.17073804140090942, 0.25285103917121887, 0.1518632471561432, 0.08221474289894104, 0.11416453123092651, 0.9977312088012695, 0.7943748831748962, 0.08331187069416046, 0.002532275626435876, 0.030387308448553085, 0.08913610130548477, 0.0002532275684643537, 0.9947772026062012, 0.004952219780534506, 0.0013897462049499154, 0.975601851940155, 0.02269918844103813, 0.1523304581642151, 0.8468011021614075, 0.9976283311843872, 0.9960201978683472, 0.037442535161972046, 0.9423375129699707, 0.01760811172425747, 0.002428704872727394, 0.9361469745635986, 0.026494724676012993, 0.02523307129740715, 0.00042055119411088526, 0.011775433085858822, 0.019452353939414024, 0.012505085207521915, 0.9677546620368958, 0.999387264251709, 0.003505082568153739, 0.9919383525848389, 0.07244335114955902, 0.01383749395608902, 0.9116466641426086, 0.0016279404517263174, 0.998521089553833, 0.9971174597740173, 0.9888882637023926, 0.7731207609176636, 0.00034035692806355655, 0.16558365523815155, 0.035056762397289276, 0.00714749563485384, 0.018719632178544998, 0.7498267889022827, 0.08927011489868164, 0.042841214686632156, 0.03651000186800957, 0.028279421851038933, 0.05339323729276657, 0.9991162419319153, 0.0635443925857544, 0.0176046472042799, 0.01877828873693943, 0.2008606344461441, 0.6991559863090515, 0.9988999962806702, 0.09944389015436172, 0.003212184878066182, 0.849622905254364, 0.015659401193261147, 0.02890966460108757, 0.003212184878066182, 0.9999518990516663, 0.7486261129379272, 0.08908724039793015, 0.0010998424841091037, 0.15361133217811584, 0.007332283072173595, 0.00018330708553548902, 0.2949652373790741, 0.08758912235498428, 0.001637179870158434, 0.6153067946434021, 0.0002728633116930723, 0.24060413241386414, 0.18394573032855988, 0.19728568196296692, 0.21955126523971558, 0.07324843108654022, 0.0853271484375, 0.0003740857355296612, 0.06783421337604523, 0.00012469524517655373, 0.9308500289916992, 0.0007481714710593224, 0.014099513180553913, 0.9849517345428467, 0.08276508003473282, 0.029558956623077393, 0.0032843283843249083, 0.8782294392585754, 0.005911791231483221, 0.17542211711406708, 0.24490374326705933, 0.19271114468574524, 0.08564939349889755, 0.25188446044921875, 0.049443718045949936, 0.8844009637832642, 0.0004400004690978676, 0.11484012007713318, 0.9995771050453186, 0.01204234454780817, 0.021719228476285934, 0.966183066368103, 0.19583795964717865, 0.4026060700416565, 0.1138996034860611, 0.07786782830953598, 0.17073632776737213, 0.03897160291671753, 0.1484123021364212, 0.08187846839427948, 0.4048435389995575, 0.17540186643600464, 0.05058269575238228, 0.1388901323080063, 0.173552006483078, 0.008436555974185467, 0.0009641778306104243, 0.7742347717285156, 0.00048208891530521214, 0.04194173589348793, 0.9978991150856018, 0.0026897550560534, 0.22249485552310944, 0.2679833471775055, 0.15525902807712555, 0.14015772938728333, 0.14410844445228577, 0.07000502198934555, 0.018557937815785408, 0.9716405868530273, 0.009278968907892704, 0.9953551888465881, 0.06341122090816498, 0.01570182666182518, 0.0012078328290954232, 0.9197646975517273, 0.9957737922668457, 0.003151182783767581, 0.0015755913918837905, 0.9177759885787964, 0.043997325003147125, 0.002055949764326215, 0.03577352687716484, 0.00041118994704447687, 0.00029973426717333496, 0.5251344442367554, 0.06833941489458084, 0.40613994002342224, 0.0023225699551403522, 0.01119056437164545, 0.017524845898151398, 0.8523831963539124, 0.02069198712706566, 0.0956476554274559, 0.9341837763786316, 0.003513856092467904, 0.060739513486623764, 0.001003958866931498, 0.9969792366027832, 0.9986610412597656, 0.0008439056691713631, 0.23882530629634857, 0.760358989238739, 0.8354506492614746, 0.12103457003831863, 0.043523892760276794, 0.9590465426445007, 0.012491314671933651, 0.027051253244280815, 0.0002386875421507284, 0.0011138751870021224, 7.956250919960439e-05, 0.9935325980186462, 0.0012576362350955606, 0.00377290858887136, 0.9968770146369934, 0.002365069929510355, 0.0028739701956510544, 0.016012119129300117, 0.8455631136894226, 0.06137979403138161, 0.0014369850978255272, 0.07287567108869553, 0.3212333917617798, 0.22823433578014374, 0.000892314943484962, 0.3843894600868225, 0.039361003786325455, 0.025976279750466347, 0.5061179399490356, 0.005696051754057407, 0.4458347260951996, 0.042245715856552124, 0.0010439226171001792, 0.2639518082141876, 0.012366468086838722, 0.1420537829399109, 0.5580167770385742, 0.022564789280295372, 0.019578415900468826, 0.005515046417713165, 0.9717512130737305, 0.003033275716006756, 0.006043318659067154, 0.991104245185852, 0.9990948438644409, 0.0006461725570261478, 0.4187198281288147, 0.0313393697142601, 0.006461725570261478, 0.4878602921962738, 0.05492466688156128, 0.9899186491966248, 0.00797249935567379, 0.0013287498150020838, 0.03232896700501442, 0.4083077013492584, 0.021140672266483307, 0.11533050239086151, 0.4088931381702423, 0.013920320197939873, 0.9963825345039368, 0.9944837093353271, 0.31904304027557373, 0.018953051418066025, 0.039880380034446716, 0.0773916244506836, 0.008291959762573242, 0.5366082787513733, 0.2002415657043457, 0.19209526479244232, 0.21802330017089844, 0.22192126512527466, 0.14501309394836426, 0.02268703654408455, 0.029887715354561806, 0.10894554108381271, 0.860958993434906, 0.16608664393424988, 0.34528830647468567, 0.08177590370178223, 0.0689915344119072, 0.27706822752952576, 0.060835983604192734, 0.04987027868628502, 0.2525957524776459, 0.26645374298095703, 0.10099194943904877, 0.2895813286304474, 0.04050801694393158, 0.0001345318742096424, 0.013856783509254456, 0.9846388101577759, 0.0001345318742096424, 0.00040359562262892723, 0.0008071912452578545, 0.023414460942149162, 0.9759833216667175, 0.0002855422208085656, 0.0002855422208085656, 0.008208571001887321, 0.989132821559906, 0.10927333682775497, 0.21466098725795746, 0.4143478274345398, 0.15713374316692352, 0.048808127641677856, 0.055916108191013336, 0.347992867231369, 0.013735984452068806, 0.1583137810230255, 0.37848326563835144, 0.09361467510461807, 0.007917876355350018, 0.9964331984519958, 0.9929875731468201, 0.0009207217372022569, 0.00018414434453006834, 0.8634528517723083, 0.1355302333831787, 0.9988176226615906, 0.9970638155937195, 0.9975053071975708, 0.9989991784095764, 0.0005115203093737364, 0.9897269606590271, 0.9985666871070862, 0.0006198427872732282, 0.25110724568367004, 0.1451990157365799, 0.221965029835701, 0.21954426169395447, 0.054141219705343246, 0.10809622704982758, 0.10507770627737045, 0.07805441319942474, 0.04256458953022957, 0.18985894322395325, 0.5158782005310059, 0.06854406744241714, 0.7722766995429993, 0.06451545655727386, 0.00038174825021997094, 0.16243387758731842, 0.00019087412510998547, 0.9977114200592041, 0.9933282732963562, 0.9963122606277466, 0.9173566102981567, 0.0003508055815473199, 0.00011693519627442583, 0.07530626654624939, 0.005846759770065546, 0.0009354815701954067, 0.9914172887802124, 0.9952784776687622, 0.9998249411582947, 0.9986771941184998, 0.03696836158633232, 0.5868378281593323, 0.008753214031457901, 0.10820462554693222, 0.228049173951149, 0.031194966286420822, 0.998961865901947, 0.997161865234375, 0.9685583710670471, 0.031132232397794724, 0.9979801177978516, 0.04350531846284866, 0.037998318672180176, 0.8937864899635315, 0.00826050341129303, 0.01597030647099018, 0.33983296155929565, 0.10332152247428894, 0.37784141302108765, 0.002179238013923168, 0.00032047618879005313, 0.1765182912349701, 0.012092193588614464, 0.05972810462117195, 0.8175055384635925, 0.010260042734444141, 0.06412526965141296, 0.03627657890319824, 0.016328854486346245, 0.004396229982376099, 0.9791032671928406, 0.9995701313018799, 0.9986142516136169, 0.9340307712554932, 0.03510843962430954, 0.02998845838010311, 0.4448119103908539, 0.06936410814523697, 0.014288296923041344, 0.21239908039569855, 0.21574315428733826, 0.043422237038612366, 0.2021760791540146, 0.03724784031510353, 0.0031503147911280394, 0.08357600122690201, 0.6326573491096497, 0.040954090654850006, 0.9627726078033447, 0.01771974191069603, 0.0037970873527228832, 0.01561024785041809, 0.9968975782394409, 0.9342570304870605, 0.0009163874783553183, 0.06460531800985336, 0.9685497283935547, 0.001586053054779768, 0.029606323689222336, 0.9988261461257935, 0.9956488609313965, 0.003562249941751361, 0.9988783001899719, 0.03696341812610626, 0.006488259416073561, 0.9563301205635071, 0.9967940449714661, 0.9918738603591919, 0.0008738976903259754, 0.006991181522607803, 0.9950497150421143, 0.009136460721492767, 0.956282913684845, 0.019288083538413048, 0.015227435156702995, 0.1586029827594757, 0.12606006860733032, 0.3785301148891449, 0.1851097196340561, 0.027119098231196404, 0.12466037273406982, 0.03581761196255684, 0.958121120929718, 0.99767005443573, 0.0025980991777032614, 0.9911123514175415, 0.007378007750958204, 0.20260314643383026, 0.6988785266876221, 0.003453462850302458, 0.043615955859422684, 0.05141822248697281, 0.0036415904760360718, 0.9959750175476074, 0.623823344707489, 0.03719817101955414, 0.009550881572067738, 0.32389217615127563, 0.005529457703232765, 0.0007168882875703275, 3.982712951255962e-05, 0.00011948138853767887, 0.9987847208976746, 0.00027878989931195974, 7.965425902511925e-05, 0.9931893944740295, 0.0001458457118133083, 0.9997724294662476, 7.292285590665415e-05, 0.1708552986383438, 0.5937544703483582, 0.00028739325352944434, 0.2228734791278839, 0.01235791016370058, 0.9959177374839783, 0.002058359095826745, 0.05351733788847923, 0.944786787033081, 0.9993423223495483, 0.997548520565033, 0.07984212785959244, 0.01000870019197464, 0.733137309551239, 0.06937848776578903, 0.005914231762290001, 0.10190676152706146, 0.0028072737623006105, 0.0004010391130577773, 0.9364262819290161, 0.06015586480498314, 0.9980549812316895, 0.002193594817072153, 0.8240604400634766, 0.16598200798034668, 0.0051183877512812614, 0.0018279956420883536, 0.0007311982335522771, 0.9995812177658081, 0.0011401361552998424, 0.0022802723105996847, 0.9162894487380981, 0.028123358264565468, 0.01178140752017498, 0.040664855390787125, 0.0007682674331590533, 0.3656952977180481, 0.6330523490905762, 0.9992568492889404, 0.9994845390319824, 0.9961013793945312, 0.007651010062545538, 0.007651010062545538, 0.38902443647384644, 0.0035312355030328035, 0.592070460319519, 0.017666226252913475, 0.04164182022213936, 0.9400956034660339, 0.06873933970928192, 0.0030963667668402195, 0.9190016388893127, 0.008050553500652313, 0.0006192733417265117, 0.17846378684043884, 0.030333787202835083, 0.014661330729722977, 0.09774220734834671, 0.48652026057243347, 0.1922825127840042, 0.988808810710907, 0.12013030797243118, 0.33610060811042786, 0.00457348907366395, 0.37807509303092957, 0.15255126357078552, 0.008537178859114647, 0.00025936783640645444, 0.39838898181915283, 0.2780423164367676, 0.0005187356728129089, 0.005187356378883123, 0.317595899105072, 0.9920972585678101, 0.48676642775535583, 0.1916743665933609, 0.19477109611034393, 0.07012791186571121, 0.009419204667210579, 0.04722505435347557, 0.9963061213493347, 0.9991859793663025, 0.23158298432826996, 0.23845389485359192, 0.2004096657037735, 0.0922735258936882, 0.16356226801872253, 0.07371960580348969, 0.9975460767745972, 0.997994601726532, 0.0017570327036082745, 0.9955337047576904, 0.2499786615371704, 0.34370172023773193, 0.12142687290906906, 0.11983513087034225, 0.11919085681438446, 0.045895110815763474, 0.9965554475784302, 0.9985623359680176, 0.10681542754173279, 0.07980696111917496, 0.24409152567386627, 0.11392291635274887, 0.004467565566301346, 0.4508179724216461, 0.017786648124456406, 0.9804889559745789, 0.9953234195709229, 0.9975008368492126, 0.9960407018661499, 0.011185256764292717, 0.9584167003631592, 0.0003195787430740893, 0.02972082421183586, 0.9987248778343201, 0.9968580603599548, 0.07864155620336533, 0.9211830496788025, 0.711646556854248, 5.874094495084137e-05, 0.017446061596274376, 0.2707957625389099, 0.0916147381067276, 0.1067650318145752, 0.12351948022842407, 0.10961685329675674, 0.07592972368001938, 0.4924737513065338, 0.9966710209846497, 0.9898867607116699, 0.31558308005332947, 0.1557413637638092, 0.02805502712726593, 0.19199709594249725, 0.30716657638549805, 0.0015106552746146917, 0.9955392479896545, 0.9937755465507507, 0.0001797410805011168, 0.7284306883811951, 0.0005991369253024459, 0.0054521458223462105, 0.20154966413974762, 0.06374816596508026, 0.997387170791626, 0.9983079433441162, 0.997782289981842, 0.0011992575600743294, 0.21715745329856873, 0.13954806327819824, 0.28015589714050293, 0.17483530938625336, 0.09474567323923111, 0.09355064481496811, 0.9962934255599976, 0.7341097593307495, 0.21437551081180573, 0.00735893752425909, 0.0041626314632594585, 0.03991666063666344, 7.433270366163924e-05, 0.7861544489860535, 0.014858133159577847, 0.1889105588197708, 0.0005306476377882063, 0.002387914340943098, 0.007163743022829294, 0.9972702264785767, 0.9980804920196533, 0.0005878707743249834, 0.00039191386895254254, 0.003331267973408103, 0.9639121294021606, 0.031745024025440216, 0.19339336454868317, 0.2539021670818329, 0.1420641392469406, 0.13506276905536652, 0.23878203332424164, 0.03680315613746643, 0.993357241153717, 0.08033952116966248, 0.008301750756800175, 0.23459140956401825, 0.06025464087724686, 0.6164719462394714, 0.3096613585948944, 0.17626655101776123, 0.1809495985507965, 0.16757632791996002, 0.10351012647151947, 0.06199020519852638, 0.8654793500900269, 0.021539079025387764, 0.01637681946158409, 0.08508826047182083, 0.007832392118871212, 0.0037381870206445456, 0.9961774349212646, 0.0017247647047042847, 0.9943268299102783, 0.004311911761760712, 0.1129147857427597, 0.011902698315680027, 0.7093364596366882, 0.04439384862780571, 0.12127884477376938, 0.15378226339817047, 0.15113328397274017, 0.35249125957489014, 0.13612237572669983, 0.1278928816318512, 0.07851584255695343, 0.001920257112942636, 0.9966134428977966, 0.001920257112942636, 0.023477746173739433, 0.004695549141615629, 0.028955886140465736, 0.9422402381896973, 0.11201369017362595, 0.11201369017362595, 0.7751346826553345, 0.0005600684089586139, 0.021272746846079826, 0.8088769912719727, 0.003331876127049327, 0.06035821512341499, 0.1061074361205101, 0.00033265099045820534, 0.00016632549522910267, 0.0041581373661756516, 0.31385618448257446, 0.6500000357627869, 0.031435515731573105, 0.007807103917002678, 0.002249504439532757, 0.00013232379569672048, 0.007013161201030016, 0.7883851528167725, 0.19464831054210663, 0.01378902792930603, 0.00551561126485467, 0.9790209531784058, 0.9968627691268921, 0.19187602400779724, 0.20805437862873077, 0.22873170673847198, 0.14343030750751495, 0.16452474892139435, 0.06337271630764008, 0.9966805577278137, 0.9504798054695129, 0.02982845902442932, 0.01934818923473358, 0.9969538450241089, 0.23001675307750702, 0.38604772090911865, 0.07011722773313522, 0.17763032019138336, 0.08180343359708786, 0.054401297122240067, 0.9990091323852539, 0.9948820471763611, 0.004963380750268698, 0.9981037974357605], \"Term\": [\"acoust\", \"adapt\", \"adapt\", \"adapt\", \"adapt\", \"adapt\", \"adapt\", \"af\", \"air\", \"air\", \"air\", \"air\", \"air\", \"air\", \"airflow\", \"also\", \"also\", \"also\", \"also\", \"also\", \"also\", \"amd\", \"amd\", \"amp\", \"amp\", \"amp\", \"ani\", \"ani\", \"ani\", \"ani\", \"ani\", \"ani\", \"antec\", \"antec\", \"antenna\", \"antenna\", \"apertur\", \"arduino\", \"att\", \"attach\", \"attach\", \"attach\", \"attach\", \"attach\", \"attach\", \"audio\", \"audio\", \"audio\", \"audio\", \"audio\", \"audiophil\", \"autofocu\", \"backpack\", \"backup\", \"backup\", \"backup\", \"backup\", \"backup\", \"bag\", \"bag\", \"bamboo\", \"bandwidth\", \"bandwidth\", \"bass\", \"batteri\", \"batteri\", \"batteri\", \"batteri\", \"batteri\", \"batteri\", \"bd\", \"bd\", \"belt\", \"benchmark\", \"better\", \"better\", \"better\", \"better\", \"better\", \"better\", \"bio\", \"bio\", \"bluetooth\", \"bluetooth\", \"bluetooth\", \"bluetooth\", \"bluetooth\", \"bluetooth\", \"blur\", \"blurri\", \"bokeh\", \"boot\", \"boot\", \"boot\", \"boot\", \"bose\", \"bottl\", \"bought\", \"bought\", \"bought\", \"bought\", \"bought\", \"bought\", \"box\", \"box\", \"box\", \"box\", \"box\", \"box\", \"bubbl\", \"bubbl\", \"bubbl\", \"bubbl\", \"bud\", \"bud\", \"button\", \"button\", \"button\", \"button\", \"button\", \"button\", \"buy\", \"buy\", \"buy\", \"buy\", \"buy\", \"buy\", \"cabl\", \"cabl\", \"cabl\", \"cabl\", \"cabl\", \"cabl\", \"camera\", \"camera\", \"camera\", \"cancel\", \"cancel\", \"cancel\", \"cancel\", \"canon\", \"canon\", \"canon\", \"cap\", \"cap\", \"cap\", \"cap\", \"capac\", \"capac\", \"capac\", \"captur\", \"captur\", \"captur\", \"card\", \"card\", \"card\", \"card\", \"card\", \"carri\", \"carri\", \"carri\", \"carri\", \"carri\", \"carri\", \"case\", \"case\", \"case\", \"case\", \"case\", \"case\", \"charg\", \"charg\", \"charg\", \"charg\", \"charg\", \"charg\", \"charger\", \"charger\", \"charger\", \"charger\", \"charger\", \"chromebook\", \"chromecast\", \"cisco\", \"clamp\", \"clamp\", \"click\", \"click\", \"click\", \"click\", \"click\", \"click\", \"clone\", \"closur\", \"cloth\", \"cloth\", \"cloth\", \"cloth\", \"coax\", \"coax\", \"comcast\", \"comcast\", \"comfort\", \"comfort\", \"comfort\", \"comfort\", \"comfort\", \"compart\", \"compart\", \"compart\", \"comput\", \"comput\", \"comput\", \"comput\", \"comput\", \"comput\", \"connect\", \"connect\", \"connect\", \"connect\", \"connect\", \"connect\", \"connector\", \"connector\", \"connector\", \"connector\", \"connector\", \"connector\", \"cool\", \"cool\", \"cool\", \"cool\", \"cool\", \"cool\", \"cooler\", \"cooler\", \"cooler\", \"core\", \"core\", \"coupler\", \"cover\", \"cover\", \"cover\", \"cover\", \"cover\", \"cover\", \"cramp\", \"crimp\", \"crop\", \"crossfir\", \"crucial\", \"cursor\", \"cursor\", \"data\", \"data\", \"data\", \"data\", \"daylight\", \"ddr\", \"ddwrt\", \"de\", \"de\", \"desk\", \"desk\", \"desk\", \"desk\", \"desk\", \"devic\", \"devic\", \"devic\", \"devic\", \"devic\", \"devic\", \"dhcp\", \"diffus\", \"digit\", \"digit\", \"digit\", \"digit\", \"digit\", \"disk\", \"disk\", \"disk\", \"disk\", \"dlink\", \"doe\", \"doe\", \"doe\", \"doe\", \"doe\", \"doe\", \"dont\", \"dont\", \"dont\", \"dont\", \"dont\", \"dont\", \"dpi\", \"drive\", \"drive\", \"drive\", \"drive\", \"drive\", \"driver\", \"driver\", \"driver\", \"driver\", \"dvd\", \"dvd\", \"dvd\", \"dvd\", \"dvd\", \"ear\", \"ear\", \"earbud\", \"earbud\", \"earphon\", \"earphon\", \"eee\", \"elast\", \"eq\", \"ergonom\", \"ergonom\", \"ergonom\", \"ergonom\", \"ethernet\", \"even\", \"even\", \"even\", \"even\", \"even\", \"even\", \"extern\", \"extern\", \"extern\", \"extern\", \"extern\", \"extern\", \"f\", \"f\", \"f\", \"f\", \"fan\", \"fan\", \"fan\", \"fan\", \"fan\", \"fan\", \"fast\", \"fast\", \"fast\", \"fast\", \"fast\", \"fast\", \"fasten\", \"featur\", \"featur\", \"featur\", \"featur\", \"featur\", \"featur\", \"feel\", \"feel\", \"feel\", \"feel\", \"feel\", \"feel\", \"file\", \"file\", \"file\", \"file\", \"finger\", \"finger\", \"finger\", \"finger\", \"finger\", \"fire\", \"fire\", \"fire\", \"fire\", \"fire\", \"firewal\", \"firewir\", \"fit\", \"fit\", \"fit\", \"fit\", \"fit\", \"fit\", \"fl\", \"flap\", \"flare\", \"fm\", \"fm\", \"fm\", \"focal\", \"focu\", \"focu\", \"focus\", \"focus\", \"focus\", \"fold\", \"fold\", \"fold\", \"fold\", \"frame\", \"frame\", \"frame\", \"frame\", \"frame\", \"frequenc\", \"frequenc\", \"frequenc\", \"ft\", \"ft\", \"ft\", \"ft\", \"game\", \"game\", \"game\", \"game\", \"game\", \"garmin\", \"garmin\", \"gb\", \"gb\", \"gb\", \"gestur\", \"get\", \"get\", \"get\", \"get\", \"get\", \"get\", \"gig\", \"gig\", \"gig\", \"gigabit\", \"go\", \"go\", \"go\", \"go\", \"go\", \"go\", \"graini\", \"grip\", \"grip\", \"grip\", \"groov\", \"gtx\", \"gtx\", \"ha\", \"ha\", \"ha\", \"ha\", \"ha\", \"ha\", \"hand\", \"hand\", \"hand\", \"hand\", \"hand\", \"hand\", \"handset\", \"hard\", \"hard\", \"hard\", \"hard\", \"hard\", \"hard\", \"harmoni\", \"hdd\", \"hdd\", \"hdmi\", \"hdmi\", \"hdmi\", \"hdmi\", \"hdmi\", \"headband\", \"headphon\", \"headphon\", \"headset\", \"headset\", \"headset\", \"hear\", \"hear\", \"hear\", \"hear\", \"hear\", \"hear\", \"hiss\", \"hold\", \"hold\", \"hold\", \"hold\", \"hold\", \"hold\", \"holder\", \"holder\", \"holder\", \"home\", \"home\", \"home\", \"home\", \"home\", \"home\", \"hous\", \"hous\", \"hous\", \"hous\", \"hous\", \"hous\", \"hulu\", \"hulu\", \"im\", \"im\", \"im\", \"im\", \"im\", \"im\", \"imag\", \"imag\", \"imag\", \"imag\", \"indoor\", \"indoor\", \"inear\", \"inner\", \"insid\", \"insid\", \"insid\", \"insid\", \"insid\", \"insid\", \"instal\", \"instal\", \"instal\", \"instal\", \"instal\", \"instal\", \"intel\", \"intel\", \"internet\", \"internet\", \"internet\", \"internet\", \"internet\", \"iomega\", \"ip\", \"ip\", \"ip\", \"ip\", \"ipad\", \"ipad\", \"ipad\", \"ipad\", \"ipad\", \"ipad\", \"ipod\", \"ipod\", \"ipod\", \"ipod\", \"ir\", \"ir\", \"ir\", \"iso\", \"isp\", \"jacket\", \"jbl\", \"key\", \"key\", \"key\", \"key\", \"key\", \"keyboard\", \"keyboard\", \"keypad\", \"keystrok\", \"kindl\", \"kindl\", \"kindl\", \"kingston\", \"klipsch\", \"lan\", \"lan\", \"lap\", \"lap\", \"laptop\", \"laptop\", \"laptop\", \"laptop\", \"laptop\", \"laptop\", \"laser\", \"laser\", \"laser\", \"laser\", \"latch\", \"layout\", \"layout\", \"layout\", \"lcd\", \"lcd\", \"lcd\", \"lcd\", \"lcd\", \"lcd\", \"leather\", \"leather\", \"len\", \"len\", \"light\", \"light\", \"light\", \"light\", \"light\", \"light\", \"linksi\", \"listen\", \"listen\", \"littl\", \"littl\", \"littl\", \"littl\", \"littl\", \"littl\", \"lo\", \"logitech\", \"logitech\", \"logitech\", \"logitech\", \"look\", \"look\", \"look\", \"look\", \"look\", \"look\", \"loud\", \"loud\", \"loud\", \"lowepro\", \"mac\", \"mac\", \"mac\", \"mac\", \"mac\", \"macbook\", \"macbook\", \"macbook\", \"macbook\", \"macbook\", \"machin\", \"machin\", \"machin\", \"machin\", \"machin\", \"macro\", \"macro\", \"made\", \"made\", \"made\", \"made\", \"made\", \"made\", \"magnet\", \"magnet\", \"magnet\", \"magnet\", \"mah\", \"make\", \"make\", \"make\", \"make\", \"make\", \"make\", \"manfrotto\", \"manual\", \"manual\", \"manual\", \"manual\", \"manual\", \"manual\", \"map\", \"map\", \"mb\", \"mb\", \"mb\", \"mbp\", \"mbp\", \"mediabridg\", \"megapixel\", \"memori\", \"memori\", \"memori\", \"memori\", \"menu\", \"menu\", \"menu\", \"menu\", \"menu\", \"mic\", \"mic\", \"mic\", \"mice\", \"microfib\", \"microfib\", \"microphon\", \"microphon\", \"microphon\", \"microphon\", \"microsd\", \"midrang\", \"mighti\", \"mm\", \"mm\", \"mm\", \"mm\", \"mm\", \"mm\", \"mode\", \"mode\", \"mode\", \"mode\", \"mode\", \"mode\", \"modem\", \"monitor\", \"monitor\", \"monitor\", \"monitor\", \"monitor\", \"monopod\", \"mount\", \"mount\", \"mount\", \"mount\", \"mount\", \"mount\", \"mous\", \"movi\", \"movi\", \"movi\", \"movi\", \"movi\", \"movi\", \"mp\", \"mp\", \"mp\", \"mp\", \"mp\", \"much\", \"much\", \"much\", \"much\", \"much\", \"much\", \"music\", \"music\", \"music\", \"music\", \"music\", \"mx\", \"mx\", \"n\", \"n\", \"n\", \"n\", \"n\", \"need\", \"need\", \"need\", \"need\", \"need\", \"need\", \"netflix\", \"netflix\", \"netflix\", \"netgear\", \"network\", \"network\", \"network\", \"new\", \"new\", \"new\", \"new\", \"new\", \"new\", \"nice\", \"nice\", \"nice\", \"nice\", \"nice\", \"nice\", \"nois\", \"nois\", \"nois\", \"nois\", \"nois\", \"nois\", \"nvidia\", \"nvidia\", \"onli\", \"onli\", \"onli\", \"onli\", \"onli\", \"onli\", \"os\", \"os\", \"os\", \"otterbox\", \"outlet\", \"outlet\", \"outlet\", \"outlet\", \"overclock\", \"overclock\", \"overclock\", \"p\", \"p\", \"p\", \"p\", \"p\", \"pad\", \"pad\", \"pad\", \"pad\", \"pair\", \"pair\", \"pair\", \"pair\", \"pair\", \"pair\", \"panason\", \"panason\", \"panason\", \"panason\", \"paperwhit\", \"partit\", \"pen\", \"pen\", \"pen\", \"photo\", \"photo\", \"photo\", \"pictur\", \"pictur\", \"pictur\", \"pictur\", \"pictur\", \"pictur\", \"pixel\", \"pixel\", \"pixel\", \"plasma\", \"plasma\", \"plastic\", \"plastic\", \"plastic\", \"plastic\", \"plastic\", \"plastic\", \"play\", \"play\", \"play\", \"play\", \"play\", \"play\", \"player\", \"player\", \"player\", \"player\", \"plug\", \"plug\", \"plug\", \"plug\", \"plug\", \"plug\", \"pocket\", \"pocket\", \"pocket\", \"pocket\", \"pointer\", \"pointer\", \"polk\", \"port\", \"port\", \"port\", \"port\", \"port\", \"port\", \"pouch\", \"pouch\", \"pouch\", \"power\", \"power\", \"power\", \"power\", \"power\", \"power\", \"powerlin\", \"premier\", \"press\", \"press\", \"press\", \"press\", \"press\", \"press\", \"price\", \"price\", \"price\", \"price\", \"price\", \"price\", \"printer\", \"printer\", \"printer\", \"problem\", \"problem\", \"problem\", \"problem\", \"problem\", \"problem\", \"product\", \"product\", \"product\", \"product\", \"product\", \"product\", \"protect\", \"protect\", \"protect\", \"protect\", \"protect\", \"protect\", \"protector\", \"protector\", \"protector\", \"protector\", \"purs\", \"purs\", \"put\", \"put\", \"put\", \"put\", \"put\", \"put\", \"qualiti\", \"qualiti\", \"qualiti\", \"qualiti\", \"qualiti\", \"qualiti\", \"que\", \"radar\", \"radio\", \"radio\", \"radio\", \"radio\", \"raid\", \"rail\", \"ralink\", \"ram\", \"ram\", \"razer\", \"reader\", \"reader\", \"realli\", \"realli\", \"realli\", \"realli\", \"realli\", \"realli\", \"receiv\", \"receiv\", \"receiv\", \"receiv\", \"receiv\", \"receiv\", \"record\", \"record\", \"record\", \"record\", \"record\", \"recoveri\", \"reflector\", \"reformat\", \"remot\", \"remot\", \"remot\", \"remot\", \"remot\", \"remot\", \"revolut\", \"roller\", \"router\", \"rt\", \"run\", \"run\", \"run\", \"run\", \"run\", \"run\", \"sandisk\", \"sansa\", \"sata\", \"sata\", \"scene\", \"scratch\", \"scratch\", \"scratch\", \"scratch\", \"scratch\", \"screen\", \"screen\", \"screen\", \"screen\", \"screen\", \"screen\", \"screw\", \"screw\", \"screw\", \"screw\", \"screw\", \"screw\", \"scroll\", \"scroll\", \"scroll\", \"seagat\", \"sennheis\", \"sensor\", \"sensor\", \"sensor\", \"set\", \"set\", \"set\", \"set\", \"set\", \"set\", \"setup\", \"setup\", \"setup\", \"setup\", \"setup\", \"setup\", \"sharp\", \"sharp\", \"sharp\", \"sharp\", \"sharper\", \"shoot\", \"shoot\", \"shoot\", \"shot\", \"shot\", \"shot\", \"shoulder\", \"shutter\", \"shutter\", \"sigma\", \"signal\", \"signal\", \"signal\", \"sky\", \"sleev\", \"sleev\", \"sleev\", \"slingbox\", \"slip\", \"slip\", \"slip\", \"slip\", \"small\", \"small\", \"small\", \"small\", \"small\", \"small\", \"smudg\", \"smudg\", \"snug\", \"snug\", \"snugli\", \"snugli\", \"softwar\", \"softwar\", \"softwar\", \"softwar\", \"softwar\", \"song\", \"song\", \"soni\", \"soni\", \"soni\", \"soni\", \"soni\", \"sound\", \"sound\", \"sound\", \"sound\", \"sound\", \"sound\", \"soundlink\", \"speaker\", \"speaker\", \"speaker\", \"speed\", \"speed\", \"speed\", \"speed\", \"speed\", \"spindl\", \"splitter\", \"splitter\", \"splitter\", \"ssd\", \"ssid\", \"stand\", \"stand\", \"stand\", \"stand\", \"stand\", \"stand\", \"stereo\", \"stereo\", \"stereo\", \"stereo\", \"stitch\", \"storag\", \"storag\", \"storag\", \"storag\", \"storag\", \"storag\", \"strap\", \"sturdi\", \"sturdi\", \"sturdi\", \"sturdi\", \"sturdi\", \"sturdi\", \"stylu\", \"stylu\", \"stylu\", \"sub\", \"subwoof\", \"suitabl\", \"surfac\", \"surfac\", \"surfac\", \"surfac\", \"surfac\", \"surg\", \"surg\", \"surg\", \"surround\", \"surround\", \"surround\", \"surround\", \"surround\", \"switch\", \"switch\", \"switch\", \"switch\", \"switch\", \"switch\", \"symbol\", \"system\", \"system\", \"system\", \"system\", \"system\", \"system\", \"tablet\", \"tablet\", \"tablet\", \"tablet\", \"tablet\", \"tablet\", \"tactil\", \"take\", \"take\", \"take\", \"take\", \"take\", \"take\", \"targu\", \"tb\", \"thi\", \"thi\", \"thi\", \"thi\", \"thi\", \"thi\", \"thrive\", \"tighten\", \"tighten\", \"tightli\", \"time\", \"time\", \"time\", \"time\", \"time\", \"time\", \"tinni\", \"tomtom\", \"touch\", \"touch\", \"touch\", \"touch\", \"touch\", \"touch\", \"touchpad\", \"touchpad\", \"tplink\", \"trackbal\", \"transcend\", \"transfer\", \"transfer\", \"transfer\", \"transfer\", \"trebl\", \"trendnet\", \"tripod\", \"tripod\", \"tv\", \"tv\", \"tv\", \"tv\", \"type\", \"type\", \"type\", \"type\", \"type\", \"type\", \"umbrella\", \"unifi\", \"unit\", \"unit\", \"unit\", \"unit\", \"unit\", \"unit\", \"upstair\", \"ur\", \"usb\", \"usb\", \"usb\", \"usb\", \"usb\", \"usb\", \"uv\", \"vcr\", \"velcro\", \"velcro\", \"veri\", \"veri\", \"veri\", \"veri\", \"veri\", \"veri\", \"vh\", \"video\", \"video\", \"video\", \"video\", \"video\", \"video\", \"view\", \"view\", \"view\", \"view\", \"view\", \"view\", \"vivid\", \"vizio\", \"volum\", \"volum\", \"volum\", \"volum\", \"volum\", \"wa\", \"wa\", \"wa\", \"wa\", \"wa\", \"wa\", \"wacom\", \"wall\", \"wall\", \"wall\", \"wall\", \"wall\", \"want\", \"want\", \"want\", \"want\", \"want\", \"want\", \"watch\", \"watch\", \"watch\", \"watch\", \"watch\", \"watch\", \"wattag\", \"wd\", \"wd\", \"wd\", \"weight\", \"weight\", \"weight\", \"weight\", \"weight\", \"well\", \"well\", \"well\", \"well\", \"well\", \"well\", \"western\", \"western\", \"western\", \"wheel\", \"wheel\", \"wheel\", \"wheel\", \"wifi\", \"wifi\", \"wifi\", \"wifi\", \"window\", \"window\", \"window\", \"window\", \"window\", \"wire\", \"wire\", \"wire\", \"wire\", \"wire\", \"wire\", \"wireless\", \"wireless\", \"wireless\", \"wireless\", \"wireless\", \"wireless\", \"wirelessli\", \"wirelessli\", \"wirelessli\", \"woofer\", \"would\", \"would\", \"would\", \"would\", \"would\", \"would\", \"wpa\", \"xp\", \"xp\", \"xp\", \"yamaha\", \"year\", \"year\", \"year\", \"year\", \"year\", \"year\", \"zipper\", \"zoom\", \"zoom\", \"zune\"]}, \"R\": 30, \"lambda.step\": 0.01, \"plot.opts\": {\"xlab\": \"PC1\", \"ylab\": \"PC2\"}, \"topic.order\": [3, 2, 5, 6, 1, 4]};\n",
       "\n",
       "function LDAvis_load_lib(url, callback){\n",
       "  var s = document.createElement('script');\n",
       "  s.src = url;\n",
       "  s.async = true;\n",
       "  s.onreadystatechange = s.onload = callback;\n",
       "  s.onerror = function(){console.warn(\"failed to load library \" + url);};\n",
       "  document.getElementsByTagName(\"head\")[0].appendChild(s);\n",
       "}\n",
       "\n",
       "if(typeof(LDAvis) !== \"undefined\"){\n",
       "   // already loaded: just create the visualization\n",
       "   !function(LDAvis){\n",
       "       new LDAvis(\"#\" + \"ldavis_el51967477820431123752848152\", ldavis_el51967477820431123752848152_data);\n",
       "   }(LDAvis);\n",
       "}else if(typeof define === \"function\" && define.amd){\n",
       "   // require.js is available: use it to load d3/LDAvis\n",
       "   require.config({paths: {d3: \"https://cdnjs.cloudflare.com/ajax/libs/d3/3.5.5/d3.min\"}});\n",
       "   require([\"d3\"], function(d3){\n",
       "      window.d3 = d3;\n",
       "      LDAvis_load_lib(\"https://cdn.rawgit.com/bmabey/pyLDAvis/files/ldavis.v1.0.0.js\", function(){\n",
       "        new LDAvis(\"#\" + \"ldavis_el51967477820431123752848152\", ldavis_el51967477820431123752848152_data);\n",
       "      });\n",
       "    });\n",
       "}else{\n",
       "    // require.js not available: dynamically load d3 & LDAvis\n",
       "    LDAvis_load_lib(\"https://cdnjs.cloudflare.com/ajax/libs/d3/3.5.5/d3.min.js\", function(){\n",
       "         LDAvis_load_lib(\"https://cdn.rawgit.com/bmabey/pyLDAvis/files/ldavis.v1.0.0.js\", function(){\n",
       "                 new LDAvis(\"#\" + \"ldavis_el51967477820431123752848152\", ldavis_el51967477820431123752848152_data);\n",
       "            })\n",
       "         });\n",
       "}\n",
       "</script>"
      ],
      "text/plain": [
       "PreparedData(topic_coordinates=            Freq  cluster  topics         x         y\n",
       "topic                                                \n",
       "2      22.810625        1       1  0.020268  0.072297\n",
       "1      22.362917        1       2  0.075140 -0.060909\n",
       "4      17.936079        1       3 -0.114867  0.026737\n",
       "5      15.506564        1       4 -0.004302  0.099222\n",
       "0      13.822596        1       5  0.137750 -0.035936\n",
       "3       7.561216        1       6 -0.113989 -0.101410, topic_info=     Category           Freq       Term          Total  loglift  logprob\n",
       "term                                                                    \n",
       "99    Default   25108.000000      sound   25108.000000  30.0000  30.0000\n",
       "9     Default   24536.000000       cabl   24536.000000  29.0000  29.0000\n",
       "130   Default   25326.000000       case   25326.000000  28.0000  28.0000\n",
       "789   Default   21477.000000      drive   21477.000000  27.0000  27.0000\n",
       "214   Default   29536.000000     camera   29536.000000  26.0000  26.0000\n",
       "158   Default   10778.000000   keyboard   10778.000000  25.0000  25.0000\n",
       "438   Default   13713.000000    speaker   13713.000000  24.0000  24.0000\n",
       "335   Default   17335.000000    connect   17335.000000  23.0000  23.0000\n",
       "559   Default   16070.000000       card   16070.000000  22.0000  22.0000\n",
       "585   Default    8239.000000       mous    8239.000000  21.0000  21.0000\n",
       "798   Default    9117.000000   headphon    9117.000000  20.0000  20.0000\n",
       "72    Default   15294.000000        fit   15294.000000  19.0000  19.0000\n",
       "34    Default   12568.000000     pictur   12568.000000  18.0000  18.0000\n",
       "51    Default   17023.000000         tv   17023.000000  17.0000  17.0000\n",
       "243   Default    9815.000000     button    9815.000000  16.0000  16.0000\n",
       "161   Default   11401.000000     laptop   11401.000000  15.0000  15.0000\n",
       "491   Default   13221.000000        len   13221.000000  14.0000  14.0000\n",
       "1661  Default    7255.000000     router    7255.000000  13.0000  13.0000\n",
       "382   Default   20838.000000    batteri   20838.000000  12.0000  12.0000\n",
       "583   Default    5249.000000        key    5249.000000  11.0000  11.0000\n",
       "915   Default   16690.000000        usb   16690.000000  10.0000  10.0000\n",
       "282   Default    8019.000000      music    8019.000000   9.0000   9.0000\n",
       "871   Default    8553.000000      cover    8553.000000   8.0000   8.0000\n",
       "570   Default    7433.000000    protect    7433.000000   7.0000   7.0000\n",
       "47    Default  161259.000000        thi  161259.000000   6.0000   6.0000\n",
       "122   Default    6730.000000        bag    6730.000000   5.0000   5.0000\n",
       "791   Default    6070.000000        ear    6070.000000   4.0000   4.0000\n",
       "208   Default    7557.000000   wireless    7557.000000   3.0000   3.0000\n",
       "900   Default    5964.000000    monitor    5964.000000   2.0000   2.0000\n",
       "552   Default    7291.000000         gb    7291.000000   1.0000   1.0000\n",
       "...       ...            ...        ...            ...      ...      ...\n",
       "161    Topic6    4750.401855     laptop   11401.761719   1.7066  -4.5514\n",
       "595    Topic6    1519.631470      click    2665.602783   2.0202  -5.6912\n",
       "535    Topic6    1435.022217        air    2712.267334   1.9455  -5.7485\n",
       "266    Topic6    1358.918945      press    2532.573730   1.9596  -5.8029\n",
       "200    Topic6    2219.654785      touch    4924.382324   1.7853  -5.3123\n",
       "1841   Topic6    1005.866394     surfac    1699.122070   2.0579  -6.1038\n",
       "2263   Topic6     823.729126      stylu    1301.630127   2.1246  -6.3036\n",
       "446    Topic6    1229.959961    macbook    2491.349121   1.8763  -5.9027\n",
       "1039   Topic6    1971.504761       hand    5402.865234   1.5740  -5.4308\n",
       "1124   Topic6    2449.489258     tablet    7711.056641   1.4354  -5.2138\n",
       "146    Topic6    2847.302734       feel   10058.496094   1.3201  -5.0633\n",
       "638    Topic6    1643.337891  bluetooth    4356.510742   1.6072  -5.6129\n",
       "47     Topic6   11888.485352        thi  161259.687500  -0.0253  -3.6341\n",
       "2708   Topic6    1354.517822        pad    3336.288574   1.6807  -5.8062\n",
       "776    Topic6    1770.555298       game    6055.101074   1.3525  -5.5383\n",
       "857    Topic6    2754.283691     screen   15601.783203   0.8479  -5.0965\n",
       "273    Topic6    4149.368164       veri   44350.308594   0.2130  -4.6867\n",
       "355    Topic6    3163.998291         ha   32845.308594   0.2422  -4.9578\n",
       "262    Topic6    2290.439453       nice   16487.851562   0.6083  -5.2809\n",
       "29     Topic6    2557.828613       look   23589.296875   0.3605  -5.1705\n",
       "90     Topic6    2321.556641     realli   21480.861328   0.3572  -5.2674\n",
       "364    Topic6    2243.724609       make   19655.841797   0.4119  -5.3015\n",
       "76     Topic6    2377.544189        get   39530.566406  -0.2289  -5.2436\n",
       "109    Topic6    2222.776611       well   28312.757812   0.0376  -5.3109\n",
       "53     Topic6    2601.585449         wa   70700.460938  -0.7202  -5.1535\n",
       "246    Topic6    2023.861328       dont   22323.433594   0.1815  -5.4046\n",
       "56     Topic6    2127.308350      would   33563.339844  -0.1764  -5.3548\n",
       "134    Topic6    1864.429321     comput   14906.781250   0.5033  -5.4867\n",
       "58     Topic6    1924.460815       also   22712.429688   0.1139  -5.4550\n",
       "32     Topic6    1895.645996       onli   27083.771484  -0.0772  -5.4701\n",
       "\n",
       "[530 rows x 6 columns], token_table=       Topic      Freq        Term\n",
       "term                              \n",
       "2302       4  0.995874      acoust\n",
       "57         1  0.017743       adapt\n",
       "57         2  0.222311       adapt\n",
       "57         3  0.065095       adapt\n",
       "57         4  0.018918       adapt\n",
       "57         5  0.673279       adapt\n",
       "57         6  0.002703       adapt\n",
       "4015       1  0.997465          af\n",
       "535        1  0.015485         air\n",
       "535        2  0.072633         air\n",
       "535        3  0.329614         air\n",
       "535        4  0.024334         air\n",
       "535        5  0.028390         air\n",
       "535        6  0.529078         air\n",
       "513        6  0.995916     airflow\n",
       "58         1  0.248718        also\n",
       "58         2  0.187651        also\n",
       "58         3  0.213539        also\n",
       "58         4  0.172681        also\n",
       "58         5  0.092681        also\n",
       "58         6  0.084711        also\n",
       "5985       2  0.996266         amd\n",
       "5985       5  0.001811         amd\n",
       "1513       2  0.002272         amp\n",
       "1513       4  0.832322         amp\n",
       "1513       5  0.164920         amp\n",
       "2          1  0.198055         ani\n",
       "2          2  0.254728         ani\n",
       "2          3  0.156328         ani\n",
       "2          4  0.146498         ani\n",
       "...      ...       ...         ...\n",
       "208        2  0.002250    wireless\n",
       "208        3  0.000132    wireless\n",
       "208        4  0.007013    wireless\n",
       "208        5  0.788385    wireless\n",
       "208        6  0.194648    wireless\n",
       "3512       1  0.013789  wirelessli\n",
       "3512       2  0.005516  wirelessli\n",
       "3512       5  0.979021  wirelessli\n",
       "10234      4  0.996863      woofer\n",
       "56         1  0.191876       would\n",
       "56         2  0.208054       would\n",
       "56         3  0.228732       would\n",
       "56         4  0.143430       would\n",
       "56         5  0.164525       would\n",
       "56         6  0.063373       would\n",
       "1934       5  0.996681         wpa\n",
       "3412       2  0.950480          xp\n",
       "3412       5  0.029828          xp\n",
       "3412       6  0.019348          xp\n",
       "4715       4  0.996954      yamaha\n",
       "210        1  0.230017        year\n",
       "210        2  0.386048        year\n",
       "210        3  0.070117        year\n",
       "210        4  0.177630        year\n",
       "210        5  0.081803        year\n",
       "210        6  0.054401        year\n",
       "2731       3  0.999009      zipper\n",
       "1746       1  0.994882        zoom\n",
       "1746       3  0.004963        zoom\n",
       "8847       4  0.998104        zune\n",
       "\n",
       "[1373 rows x 3 columns], R=30, lambda_step=0.01, plot_opts={'xlab': 'PC1', 'ylab': 'PC2'}, topic_order=[3, 2, 5, 6, 1, 4])"
      ]
     },
     "execution_count": 19,
     "metadata": {},
     "output_type": "execute_result"
    }
   ],
   "source": [
    "# Helps to understand topic to word relation\n",
    "pyLDAvis.enable_notebook()\n",
    "vis = pyLDAvis.gensim.prepare(lda_model,docs_bow,dictionary)\n",
    "vis"
   ]
  },
  {
   "cell_type": "code",
   "execution_count": null,
   "metadata": {},
   "outputs": [],
   "source": [
    "#Coherence for 1\n",
    "\n",
    "from gensim.models.coherencemodel import CoherenceModel\n",
    "cm = CoherenceModel(model=lda_model,corpus=docs_bow,coherence = 'u_mass')\n",
    "coherence = cm.get_coherence()\n",
    "coherence"
   ]
  },
  {
   "cell_type": "code",
   "execution_count": null,
   "metadata": {},
   "outputs": [],
   "source": [
    "from gensim.models.coherencemodel import CoherenceModel\n",
    "cohers=[]\n",
    "for i in range(1,15):\n",
    "    lda_model = gensim.models.LdaModel(docs_bow,id2word=dictionary,num_topics=i)\n",
    "    cm = CoherenceModel(model=lda_model,corpus=docs_bow,coherence = 'u_mass')\n",
    "    coherence = cm.get_coherence()\n",
    "     "
   ]
  },
  {
   "cell_type": "code",
   "execution_count": null,
   "metadata": {},
   "outputs": [],
   "source": []
  },
  {
   "cell_type": "code",
   "execution_count": null,
   "metadata": {},
   "outputs": [],
   "source": [
    "## Once the model we build is good enough , we will go for tagging\n",
    "doc2topic_prob =pd.DataFrame(lda_model.get_document_topics(docs_bow[0]),columns = ['topic','prob'])\n",
    "doc2topic_prob.sort_values('prob',ascending = False).iloc[0]['topic']"
   ]
  },
  {
   "cell_type": "code",
   "execution_count": null,
   "metadata": {},
   "outputs": [],
   "source": [
    "topics = []\n",
    "for doc_bow in docs_bow:\n",
    "    doc2topic_prob = lda_model.get_document_topics(doc_bow)\n",
    "    doc2topic_prob = pd.DataFrame(doc2topic_prob,\n",
    "                                 columns=['topic','prob'])\n",
    "    topic = doc2topic_prob.sort_values('prob',\n",
    "                                      ascending=False).iloc[0]['topic']\n",
    "    topics.append(topic)"
   ]
  },
  {
   "cell_type": "code",
   "execution_count": null,
   "metadata": {},
   "outputs": [],
   "source": [
    "%matplotlib inline\n",
    "amazon['topics'] = topics\n",
    "amazon['topics'].value_counts().plot.bar(color = 'steelblue')"
   ]
  }
 ],
 "metadata": {
  "kernelspec": {
   "display_name": "Python 3",
   "language": "python",
   "name": "python3"
  },
  "language_info": {
   "codemirror_mode": {
    "name": "ipython",
    "version": 3
   },
   "file_extension": ".py",
   "mimetype": "text/x-python",
   "name": "python",
   "nbconvert_exporter": "python",
   "pygments_lexer": "ipython3",
   "version": "3.6.4"
  }
 },
 "nbformat": 4,
 "nbformat_minor": 2
}
